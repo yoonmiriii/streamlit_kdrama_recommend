{
 "cells": [
  {
   "cell_type": "markdown",
   "id": "91a081df",
   "metadata": {},
   "source": [
    "본 자료는 다음 링크의 내용을 참고하였습니다.\n",
    "\n",
    "- Reference : https://www.kaggle.com/datasets/ahbab911/top-250-korean-dramas-kdrama-dataset?resource=download&select"
   ]
  },
  {
   "cell_type": "markdown",
   "id": "be41e371",
   "metadata": {},
   "source": [
    "# 한국 드라마 추천"
   ]
  },
  {
   "cell_type": "markdown",
   "id": "821876ca",
   "metadata": {},
   "source": [
    "## 1. 평점 필터링"
   ]
  },
  {
   "cell_type": "code",
   "execution_count": 47,
   "id": "c62fe670-2c0a-4641-b7ef-bbea0379553a",
   "metadata": {},
   "outputs": [],
   "source": [
    "import numpy as np\n",
    "import pandas as pd\n",
    "import matplotlib.pyplot as plt\n",
    "import seaborn as sb\n",
    "\n",
    "%matplotlib inline\n",
    "\n",
    "import platform\n",
    "\n",
    "from matplotlib import font_manager, rc\n",
    "plt.rcParams['axes.unicode_minus'] = False\n",
    "\n",
    "if platform.system() == 'Darwin':\n",
    "    rc('font', family='AppleGothic')\n",
    "elif platform.system() == 'Windows':\n",
    "    path = \"c:/Windows/Fonts/malgun.ttf\"\n",
    "    font_name = font_manager.FontProperties(fname=path).get_name()\n",
    "    rc('font', family=font_name)\n",
    "else:\n",
    "    print('Unknown system... sorry~~~~')"
   ]
  },
  {
   "cell_type": "code",
   "execution_count": 49,
   "id": "24bd5f05",
   "metadata": {},
   "outputs": [],
   "source": [
    "df = pd.read_csv('../kdrama.csv')"
   ]
  },
  {
   "cell_type": "code",
   "execution_count": 3,
   "id": "39266187",
   "metadata": {},
   "outputs": [
    {
     "data": {
      "text/html": [
       "<div>\n",
       "<style scoped>\n",
       "    .dataframe tbody tr th:only-of-type {\n",
       "        vertical-align: middle;\n",
       "    }\n",
       "\n",
       "    .dataframe tbody tr th {\n",
       "        vertical-align: top;\n",
       "    }\n",
       "\n",
       "    .dataframe thead th {\n",
       "        text-align: right;\n",
       "    }\n",
       "</style>\n",
       "<table border=\"1\" class=\"dataframe\">\n",
       "  <thead>\n",
       "    <tr style=\"text-align: right;\">\n",
       "      <th></th>\n",
       "      <th>Name</th>\n",
       "      <th>Aired Date</th>\n",
       "      <th>Year of release</th>\n",
       "      <th>Original Network</th>\n",
       "      <th>Aired On</th>\n",
       "      <th>Number of Episodes</th>\n",
       "      <th>Duration</th>\n",
       "      <th>Content Rating</th>\n",
       "      <th>Rating</th>\n",
       "      <th>Synopsis</th>\n",
       "      <th>Genre</th>\n",
       "      <th>Tags</th>\n",
       "      <th>Director</th>\n",
       "      <th>Screenwriter</th>\n",
       "      <th>Cast</th>\n",
       "      <th>Production companies</th>\n",
       "      <th>Rank</th>\n",
       "    </tr>\n",
       "  </thead>\n",
       "  <tbody>\n",
       "    <tr>\n",
       "      <th>0</th>\n",
       "      <td>Move to Heaven</td>\n",
       "      <td>May 14, 2021</td>\n",
       "      <td>2021</td>\n",
       "      <td>Netflix</td>\n",
       "      <td>Friday</td>\n",
       "      <td>10</td>\n",
       "      <td>52 min.</td>\n",
       "      <td>18+ Restricted (violence &amp; profanity)</td>\n",
       "      <td>9.2</td>\n",
       "      <td>Geu Roo is a young autistic man. He works for ...</td>\n",
       "      <td>Life,  Drama,  Family</td>\n",
       "      <td>Autism, Uncle-Nephew Relationship, Death, Sava...</td>\n",
       "      <td>Kim Sung Ho</td>\n",
       "      <td>Yoon Ji Ryun</td>\n",
       "      <td>Lee Je Hoon, Tang Jun Sang, Hong Seung Hee, Ju...</td>\n",
       "      <td>Page One Film, Number Three Pictures</td>\n",
       "      <td>#1</td>\n",
       "    </tr>\n",
       "    <tr>\n",
       "      <th>1</th>\n",
       "      <td>Flower of Evil</td>\n",
       "      <td>Jul 29, 2020 - Sep 23, 2020</td>\n",
       "      <td>2020</td>\n",
       "      <td>tvN</td>\n",
       "      <td>Wednesday, Thursday</td>\n",
       "      <td>16</td>\n",
       "      <td>1 hr. 10 min.</td>\n",
       "      <td>15+ - Teens 15 or older</td>\n",
       "      <td>9.1</td>\n",
       "      <td>Although Baek Hee Sung is hiding a dark secret...</td>\n",
       "      <td>Thriller,  Romance,  Crime,  Melodrama</td>\n",
       "      <td>Married Couple, Deception, Suspense, Family Se...</td>\n",
       "      <td>Kim Chul Gyu, Yoon Jong Ho</td>\n",
       "      <td>Yoo Jung Hee</td>\n",
       "      <td>Lee Joon Gi, Moon Chae Won, Jang Hee Jin, Seo ...</td>\n",
       "      <td>Monster Union</td>\n",
       "      <td>#2</td>\n",
       "    </tr>\n",
       "    <tr>\n",
       "      <th>2</th>\n",
       "      <td>Hospital Playlist</td>\n",
       "      <td>Mar 12, 2020 - May 28, 2020</td>\n",
       "      <td>2020</td>\n",
       "      <td>Netflix,  tvN</td>\n",
       "      <td>Thursday</td>\n",
       "      <td>12</td>\n",
       "      <td>1 hr. 30 min.</td>\n",
       "      <td>15+ - Teens 15 or older</td>\n",
       "      <td>9.1</td>\n",
       "      <td>The stories of people going through their days...</td>\n",
       "      <td>Friendship,  Romance,  Life,  Medical</td>\n",
       "      <td>Strong Friendship, Multiple Mains, Best Friend...</td>\n",
       "      <td>Shin Won Ho</td>\n",
       "      <td>Lee Woo Jung</td>\n",
       "      <td>Jo Jung Suk, Yoo Yeon Seok, Jung Kyung Ho, Kim...</td>\n",
       "      <td>Egg Is Coming, CJ ENM</td>\n",
       "      <td>#3</td>\n",
       "    </tr>\n",
       "    <tr>\n",
       "      <th>3</th>\n",
       "      <td>Hospital Playlist 2</td>\n",
       "      <td>Jun 17, 2021 - Sep 16, 2021</td>\n",
       "      <td>2021</td>\n",
       "      <td>Netflix,  tvN</td>\n",
       "      <td>Thursday</td>\n",
       "      <td>12</td>\n",
       "      <td>1 hr. 40 min.</td>\n",
       "      <td>15+ - Teens 15 or older</td>\n",
       "      <td>9.1</td>\n",
       "      <td>Everyday is extraordinary for five doctors and...</td>\n",
       "      <td>Friendship,  Romance,  Life,  Medical</td>\n",
       "      <td>Workplace, Strong Friendship, Best Friends, Mu...</td>\n",
       "      <td>Shin Won Ho</td>\n",
       "      <td>Lee Woo Jung</td>\n",
       "      <td>Jo Jung Suk, Yoo Yeon Seok, Jung Kyung Ho, Kim...</td>\n",
       "      <td>Egg Is Coming, CJ ENM</td>\n",
       "      <td>#4</td>\n",
       "    </tr>\n",
       "    <tr>\n",
       "      <th>4</th>\n",
       "      <td>My Mister</td>\n",
       "      <td>Mar 21, 2018 - May 17, 2018</td>\n",
       "      <td>2018</td>\n",
       "      <td>tvN</td>\n",
       "      <td>Wednesday, Thursday</td>\n",
       "      <td>16</td>\n",
       "      <td>1 hr. 17 min.</td>\n",
       "      <td>15+ - Teens 15 or older</td>\n",
       "      <td>9.1</td>\n",
       "      <td>Park Dong Hoon is a middle-aged engineer who i...</td>\n",
       "      <td>Psychological,  Life,  Drama,  Family</td>\n",
       "      <td>Age Gap, Nice Male Lead, Strong Female Lead, H...</td>\n",
       "      <td>Kim Won Suk, Kim Sang Woo</td>\n",
       "      <td>Park Hae Young</td>\n",
       "      <td>Lee Sun Kyun, IU, Park Ho San, Song Sae Byuk, ...</td>\n",
       "      <td>Chorokbaem Media</td>\n",
       "      <td>#5</td>\n",
       "    </tr>\n",
       "  </tbody>\n",
       "</table>\n",
       "</div>"
      ],
      "text/plain": [
       "                  Name                   Aired Date  Year of release  \\\n",
       "0       Move to Heaven                 May 14, 2021             2021   \n",
       "1       Flower of Evil  Jul 29, 2020 - Sep 23, 2020             2020   \n",
       "2    Hospital Playlist  Mar 12, 2020 - May 28, 2020             2020   \n",
       "3  Hospital Playlist 2  Jun 17, 2021 - Sep 16, 2021             2021   \n",
       "4            My Mister  Mar 21, 2018 - May 17, 2018             2018   \n",
       "\n",
       "  Original Network              Aired On  Number of Episodes       Duration  \\\n",
       "0          Netflix                Friday                  10        52 min.   \n",
       "1              tvN   Wednesday, Thursday                  16  1 hr. 10 min.   \n",
       "2   Netflix,  tvN               Thursday                  12  1 hr. 30 min.   \n",
       "3   Netflix,  tvN               Thursday                  12  1 hr. 40 min.   \n",
       "4              tvN   Wednesday, Thursday                  16  1 hr. 17 min.   \n",
       "\n",
       "                          Content Rating  Rating  \\\n",
       "0  18+ Restricted (violence & profanity)     9.2   \n",
       "1                15+ - Teens 15 or older     9.1   \n",
       "2                15+ - Teens 15 or older     9.1   \n",
       "3                15+ - Teens 15 or older     9.1   \n",
       "4                15+ - Teens 15 or older     9.1   \n",
       "\n",
       "                                            Synopsis  \\\n",
       "0  Geu Roo is a young autistic man. He works for ...   \n",
       "1  Although Baek Hee Sung is hiding a dark secret...   \n",
       "2  The stories of people going through their days...   \n",
       "3  Everyday is extraordinary for five doctors and...   \n",
       "4  Park Dong Hoon is a middle-aged engineer who i...   \n",
       "\n",
       "                                     Genre  \\\n",
       "0                   Life,  Drama,  Family    \n",
       "1  Thriller,  Romance,  Crime,  Melodrama    \n",
       "2   Friendship,  Romance,  Life,  Medical    \n",
       "3   Friendship,  Romance,  Life,  Medical    \n",
       "4   Psychological,  Life,  Drama,  Family    \n",
       "\n",
       "                                                Tags  \\\n",
       "0  Autism, Uncle-Nephew Relationship, Death, Sava...   \n",
       "1  Married Couple, Deception, Suspense, Family Se...   \n",
       "2  Strong Friendship, Multiple Mains, Best Friend...   \n",
       "3  Workplace, Strong Friendship, Best Friends, Mu...   \n",
       "4  Age Gap, Nice Male Lead, Strong Female Lead, H...   \n",
       "\n",
       "                     Director    Screenwriter  \\\n",
       "0                 Kim Sung Ho    Yoon Ji Ryun   \n",
       "1  Kim Chul Gyu, Yoon Jong Ho    Yoo Jung Hee   \n",
       "2                 Shin Won Ho    Lee Woo Jung   \n",
       "3                 Shin Won Ho    Lee Woo Jung   \n",
       "4   Kim Won Suk, Kim Sang Woo  Park Hae Young   \n",
       "\n",
       "                                                Cast  \\\n",
       "0  Lee Je Hoon, Tang Jun Sang, Hong Seung Hee, Ju...   \n",
       "1  Lee Joon Gi, Moon Chae Won, Jang Hee Jin, Seo ...   \n",
       "2  Jo Jung Suk, Yoo Yeon Seok, Jung Kyung Ho, Kim...   \n",
       "3  Jo Jung Suk, Yoo Yeon Seok, Jung Kyung Ho, Kim...   \n",
       "4  Lee Sun Kyun, IU, Park Ho San, Song Sae Byuk, ...   \n",
       "\n",
       "                   Production companies Rank  \n",
       "0  Page One Film, Number Three Pictures   #1  \n",
       "1                         Monster Union   #2  \n",
       "2                 Egg Is Coming, CJ ENM   #3  \n",
       "3                 Egg Is Coming, CJ ENM   #4  \n",
       "4                      Chorokbaem Media   #5  "
      ]
     },
     "execution_count": 3,
     "metadata": {},
     "output_type": "execute_result"
    }
   ],
   "source": [
    "df.head()"
   ]
  },
  {
   "cell_type": "code",
   "execution_count": 7,
   "id": "f7e23c2e-c31d-49fd-83e4-206f5ba3583f",
   "metadata": {},
   "outputs": [
    {
     "data": {
      "text/plain": [
       "(250, 17)"
      ]
     },
     "execution_count": 7,
     "metadata": {},
     "output_type": "execute_result"
    }
   ],
   "source": [
    "df.shape"
   ]
  },
  {
   "cell_type": "code",
   "execution_count": 9,
   "id": "5292a24c",
   "metadata": {},
   "outputs": [
    {
     "data": {
      "text/plain": [
       "Name                    0\n",
       "Aired Date              0\n",
       "Year of release         0\n",
       "Original Network        0\n",
       "Aired On                0\n",
       "Number of Episodes      0\n",
       "Duration                0\n",
       "Content Rating          5\n",
       "Rating                  0\n",
       "Synopsis                0\n",
       "Genre                   0\n",
       "Tags                    0\n",
       "Director                1\n",
       "Screenwriter            1\n",
       "Cast                    0\n",
       "Production companies    2\n",
       "Rank                    0\n",
       "dtype: int64"
      ]
     },
     "execution_count": 9,
     "metadata": {},
     "output_type": "execute_result"
    }
   ],
   "source": [
    "df.isna().sum()"
   ]
  },
  {
   "cell_type": "code",
   "execution_count": 11,
   "id": "3a6924c4-33ef-4971-9bc6-71ebaf81eb8c",
   "metadata": {},
   "outputs": [],
   "source": [
    "# 결측치 채우기\n",
    "df.fillna(' ', inplace=True)"
   ]
  },
  {
   "cell_type": "code",
   "execution_count": 13,
   "id": "33e890e6-a90c-4c68-9a07-ed4ff73f6894",
   "metadata": {},
   "outputs": [
    {
     "data": {
      "text/plain": [
       "Name                    0\n",
       "Aired Date              0\n",
       "Year of release         0\n",
       "Original Network        0\n",
       "Aired On                0\n",
       "Number of Episodes      0\n",
       "Duration                0\n",
       "Content Rating          0\n",
       "Rating                  0\n",
       "Synopsis                0\n",
       "Genre                   0\n",
       "Tags                    0\n",
       "Director                0\n",
       "Screenwriter            0\n",
       "Cast                    0\n",
       "Production companies    0\n",
       "Rank                    0\n",
       "dtype: int64"
      ]
     },
     "execution_count": 13,
     "metadata": {},
     "output_type": "execute_result"
    }
   ],
   "source": [
    "df.isna().sum()"
   ]
  },
  {
   "cell_type": "code",
   "execution_count": 7,
   "id": "0634a13a-df82-4212-81db-2397a2d494dc",
   "metadata": {},
   "outputs": [
    {
     "data": {
      "text/plain": [
       "Index(['Name', 'Aired Date', 'Year of release', 'Original Network', 'Aired On',\n",
       "       'Number of Episodes', 'Duration', 'Content Rating', 'Rating',\n",
       "       'Synopsis', 'Genre', 'Tags', 'Director', 'Screenwriter', 'Cast',\n",
       "       'Production companies', 'Rank'],\n",
       "      dtype='object')"
      ]
     },
     "execution_count": 7,
     "metadata": {},
     "output_type": "execute_result"
    }
   ],
   "source": [
    "df.columns"
   ]
  },
  {
   "cell_type": "code",
   "execution_count": 15,
   "id": "128addd4-9754-43de-8bc5-359d29f2cc05",
   "metadata": {},
   "outputs": [
    {
     "data": {
      "text/html": [
       "<div>\n",
       "<style scoped>\n",
       "    .dataframe tbody tr th:only-of-type {\n",
       "        vertical-align: middle;\n",
       "    }\n",
       "\n",
       "    .dataframe tbody tr th {\n",
       "        vertical-align: top;\n",
       "    }\n",
       "\n",
       "    .dataframe thead th {\n",
       "        text-align: right;\n",
       "    }\n",
       "</style>\n",
       "<table border=\"1\" class=\"dataframe\">\n",
       "  <thead>\n",
       "    <tr style=\"text-align: right;\">\n",
       "      <th></th>\n",
       "      <th>Year of release</th>\n",
       "      <th>Number of Episodes</th>\n",
       "      <th>Rating</th>\n",
       "    </tr>\n",
       "  </thead>\n",
       "  <tbody>\n",
       "    <tr>\n",
       "      <th>count</th>\n",
       "      <td>250.00000</td>\n",
       "      <td>250.000000</td>\n",
       "      <td>250.000000</td>\n",
       "    </tr>\n",
       "    <tr>\n",
       "      <th>mean</th>\n",
       "      <td>2018.25600</td>\n",
       "      <td>19.064000</td>\n",
       "      <td>8.534000</td>\n",
       "    </tr>\n",
       "    <tr>\n",
       "      <th>std</th>\n",
       "      <td>3.26452</td>\n",
       "      <td>13.245743</td>\n",
       "      <td>0.221359</td>\n",
       "    </tr>\n",
       "    <tr>\n",
       "      <th>min</th>\n",
       "      <td>2003.00000</td>\n",
       "      <td>1.000000</td>\n",
       "      <td>8.300000</td>\n",
       "    </tr>\n",
       "    <tr>\n",
       "      <th>25%</th>\n",
       "      <td>2017.00000</td>\n",
       "      <td>16.000000</td>\n",
       "      <td>8.300000</td>\n",
       "    </tr>\n",
       "    <tr>\n",
       "      <th>50%</th>\n",
       "      <td>2019.00000</td>\n",
       "      <td>16.000000</td>\n",
       "      <td>8.500000</td>\n",
       "    </tr>\n",
       "    <tr>\n",
       "      <th>75%</th>\n",
       "      <td>2021.00000</td>\n",
       "      <td>20.000000</td>\n",
       "      <td>8.700000</td>\n",
       "    </tr>\n",
       "    <tr>\n",
       "      <th>max</th>\n",
       "      <td>2022.00000</td>\n",
       "      <td>133.000000</td>\n",
       "      <td>9.200000</td>\n",
       "    </tr>\n",
       "  </tbody>\n",
       "</table>\n",
       "</div>"
      ],
      "text/plain": [
       "       Year of release  Number of Episodes      Rating\n",
       "count        250.00000          250.000000  250.000000\n",
       "mean        2018.25600           19.064000    8.534000\n",
       "std            3.26452           13.245743    0.221359\n",
       "min         2003.00000            1.000000    8.300000\n",
       "25%         2017.00000           16.000000    8.300000\n",
       "50%         2019.00000           16.000000    8.500000\n",
       "75%         2021.00000           20.000000    8.700000\n",
       "max         2022.00000          133.000000    9.200000"
      ]
     },
     "execution_count": 15,
     "metadata": {},
     "output_type": "execute_result"
    }
   ],
   "source": [
    "df.describe()"
   ]
  },
  {
   "cell_type": "code",
   "execution_count": 45,
   "id": "66c5a0a0-aeea-437b-92e3-6232e5df226a",
   "metadata": {},
   "outputs": [
    {
     "data": {
      "text/plain": [
       "Year of release\n",
       "2003     1\n",
       "2006     1\n",
       "2007     1\n",
       "2009     1\n",
       "2010     1\n",
       "2011     4\n",
       "2012     7\n",
       "2013    11\n",
       "2014     7\n",
       "2015     9\n",
       "2016    13\n",
       "2017    27\n",
       "2018    24\n",
       "2019    37\n",
       "2020    35\n",
       "2021    39\n",
       "2022    32\n",
       "Name: count, dtype: int64"
      ]
     },
     "execution_count": 45,
     "metadata": {},
     "output_type": "execute_result"
    }
   ],
   "source": [
    "# 연도별 드라마 수\n",
    "drama_counts = df['Year of release'].value_counts().sort_index()\n",
    "drama_counts"
   ]
  },
  {
   "cell_type": "code",
   "execution_count": 21,
   "id": "c707be8b-1358-4f21-badf-8879e03486d1",
   "metadata": {},
   "outputs": [
    {
     "data": {
      "image/png": "[encoded data removed]",
      "text/plain": [
       "<Figure size 640x480 with 1 Axes>"
      ]
     },
     "metadata": {},
     "output_type": "display_data"
    }
   ],
   "source": [
    "# 히스토그램 그리기\n",
    "sb.countplot(data=df, x='Year of release', color='green')\n",
    "plt.xlabel('Year')\n",
    "plt.ylabel('Number of Dramas')\n",
    "plt.title('연도별 방영된 드라마 수')\n",
    "plt.xticks(rotation=45)\n",
    "plt.grid(axis='y')  # y축에 그리드 추가\n",
    "plt.show()"
   ]
  },
  {
   "cell_type": "code",
   "execution_count": 93,
   "id": "138f0c86-aa9f-49e8-a076-364df954b9db",
   "metadata": {},
   "outputs": [
    {
     "data": {
      "text/plain": [
       "array(['Netflix', 'tvN', 'Netflix,  tvN ', 'Wavve', 'Netflix, tvN',\n",
       "       'ENA, Netflix', 'jTBC', 'MBC, Netflix', 'KBS2', 'MBC, Viki',\n",
       "       'Netflix,  OCN ', 'MBC', 'SBS', 'OCN', 'Netflix,  SBS ',\n",
       "       'Netflix, SBS', 'jTBC,  Netflix ', 'jTBC, Netflix', 'Hulu, MBC',\n",
       "       'iQiyi, tvN', 'jTBC,  Viki ', 'ViuTV', 'Daum Kakao TV, Netflix',\n",
       "       'KBS2,  Netflix ', 'jTBC, Viki', 'OCN, tvN', 'ENA, Olleh TV',\n",
       "       'iQiyi, jTBC', 'KBS2, ViuTV', 'tvN, ViuTV', 'MBC, ViuTV',\n",
       "       'Apple TV+', 'Disney+', 'iQiyi, KBS2, Viki', 'Channel A',\n",
       "       'YouTube', 'Hulu', 'Naver TV Cast', 'MBN', 'SBS, ViuTV',\n",
       "       'Daum Kakao TV', 'Viki', 'TV Chosun', 'KBS2, Netflix',\n",
       "       'Naver TV Cast, vLive'], dtype=object)"
      ]
     },
     "execution_count": 93,
     "metadata": {},
     "output_type": "execute_result"
    }
   ],
   "source": [
    "df['Original Network'].unique()"
   ]
  },
  {
   "cell_type": "code",
   "execution_count": 95,
   "id": "14f4df15-c51f-49fd-a2a5-ffb07c8011f2",
   "metadata": {},
   "outputs": [
    {
     "data": {
      "text/plain": [
       "56"
      ]
     },
     "execution_count": 95,
     "metadata": {},
     "output_type": "execute_result"
    }
   ],
   "source": [
    "# 'Original Network' 컬럼에서 Netflix가 포함된 데이터 개수 구하기\n",
    "netflix_count = df[df['Original Network'].str.contains('Netflix', case=False, na=False)].shape[0] #대소문자를 구분하지 않고, NaN 값은 무시\n",
    "netflix_count"
   ]
  },
  {
   "cell_type": "code",
   "execution_count": 99,
   "id": "cd13de3f-3d1d-43c7-828a-056d219e877e",
   "metadata": {},
   "outputs": [
    {
     "data": {
      "text/plain": [
       "Original Network\n",
       "tvN                       49\n",
       "SBS                       30\n",
       "MBC                       26\n",
       "KBS2                      25\n",
       "OCN                       19\n",
       "Netflix,  tvN             16\n",
       "jTBC                      15\n",
       "Netflix                   12\n",
       "Netflix, tvN               8\n",
       "jTBC, Netflix              4\n",
       "Netflix, SBS               4\n",
       "MBC, Netflix               3\n",
       "Netflix,  SBS              2\n",
       "jTBC,  Netflix             2\n",
       "YouTube                    2\n",
       "iQiyi, tvN                 2\n",
       "jTBC, Viki                 2\n",
       "Wavve                      2\n",
       "Viki                       1\n",
       "Naver TV Cast              1\n",
       "iQiyi, KBS2, Viki          1\n",
       "Channel A                  1\n",
       "Hulu                       1\n",
       "SBS, ViuTV                 1\n",
       "MBN                        1\n",
       "TV Chosun                  1\n",
       "Daum Kakao TV              1\n",
       "KBS2, Netflix              1\n",
       "Apple TV+                  1\n",
       "Disney+                    1\n",
       "Daum Kakao TV, Netflix     1\n",
       "MBC, ViuTV                 1\n",
       "tvN, ViuTV                 1\n",
       "KBS2, ViuTV                1\n",
       "iQiyi, jTBC                1\n",
       "ENA, Olleh TV              1\n",
       "OCN, tvN                   1\n",
       "KBS2,  Netflix             1\n",
       "ViuTV                      1\n",
       "jTBC,  Viki                1\n",
       "Hulu, MBC                  1\n",
       "Netflix,  OCN              1\n",
       "MBC, Viki                  1\n",
       "ENA, Netflix               1\n",
       "Naver TV Cast, vLive       1\n",
       "Name: count, dtype: int64"
      ]
     },
     "execution_count": 99,
     "metadata": {},
     "output_type": "execute_result"
    }
   ],
   "source": [
    "# 네트워크별 드라마 수 계산\n",
    "network_counts = df['Original Network'].value_counts()\n",
    "network_counts"
   ]
  },
  {
   "cell_type": "code",
   "execution_count": 25,
   "id": "54421c5f-6ce5-481f-af39-2031767ec818",
   "metadata": {},
   "outputs": [
    {
     "name": "stdout",
     "output_type": "stream",
     "text": [
      "Netflix가 포함된 데이터 개수: 56\n",
      "Wavve가 포함된 데이터 개수: 2\n",
      "ENA가 포함된 데이터 개수: 2\n",
      "tvN가 포함된 데이터 개수: 77\n",
      "jTBC가 포함된 데이터 개수: 25\n",
      "OCN가 포함된 데이터 개수: 21\n",
      "SBS가 포함된 데이터 개수: 37\n",
      "KBS2가 포함된 데이터 개수: 29\n",
      "MBC가 포함된 데이터 개수: 32\n",
      "Daum Kakao TV가 포함된 데이터 개수: 2\n",
      "Olleh TV가 포함된 데이터 개수: 1\n",
      "Disney+가 포함된 데이터 개수: 1\n",
      "Channel A가 포함된 데이터 개수: 1\n",
      "TV Chosun가 포함된 데이터 개수: 1\n",
      "Naver TV Cast가 포함된 데이터 개수: 2\n",
      "MBN가 포함된 데이터 개수: 1\n"
     ]
    }
   ],
   "source": [
    "# 'Netflix,  tvN ' 두개가 합쳐진 값도 각각의 단어로 검색 시 데이터 개수에 합산될 수 있도록 해보기\n",
    "# 검색할 단어들 리스트 정의\n",
    "search_words = ['Netflix', 'Wavve', 'ENA', 'tvN', 'jTBC', 'OCN', 'SBS', 'KBS2', 'MBC', 'Daum Kakao TV', 'Olleh TV', 'Disney+', 'Channel A', 'TV Chosun', 'Naver TV Cast', 'MBN']\n",
    "\n",
    "# 각 단어들이 포함된 데이터 개수 계산\n",
    "counts = {}\n",
    "for word in search_words:\n",
    "    counts[word] = df[df['Original Network'].str.contains(word, case=False, na=False)].shape[0]\n",
    "\n",
    "# 결과 출력\n",
    "for word, count in counts.items():\n",
    "    print(f\"{word}가 포함된 데이터 개수: {count}\")"
   ]
  },
  {
   "cell_type": "code",
   "execution_count": 27,
   "id": "862c305f-8d26-435b-bf9d-597dec5ab292",
   "metadata": {},
   "outputs": [
    {
     "data": {
      "image/png": "[encoded data removed]",
      "text/plain": [
       "<Figure size 1200x800 with 1 Axes>"
      ]
     },
     "metadata": {},
     "output_type": "display_data"
    }
   ],
   "source": [
    "# 딕셔너리를 값(counts)으로 내림차순 정렬\n",
    "counts_sorted = dict(sorted(counts.items(), key=lambda item: item[1], reverse=False))\n",
    "\n",
    "# 결과를 가로 막대 그래프로 출력\n",
    "plt.figure(figsize=(12, 8))\n",
    "plt.barh(list(counts_sorted.keys()), list(counts_sorted.values()), color='skyblue')\n",
    "plt.xlabel('Number of Dramas')\n",
    "plt.ylabel('Network')\n",
    "plt.title('방송사별 방영된 드라마 수')\n",
    "plt.grid(axis='x')  # x축에 그리드 추가\n",
    "plt.show()"
   ]
  },
  {
   "cell_type": "code",
   "execution_count": 29,
   "id": "ed125f00-a787-4cb0-be8b-c529e6be5ce1",
   "metadata": {},
   "outputs": [
    {
     "data": {
      "text/plain": [
       "205"
      ]
     },
     "execution_count": 29,
     "metadata": {},
     "output_type": "execute_result"
    }
   ],
   "source": [
    "df['Genre'].nunique()"
   ]
  },
  {
   "cell_type": "code",
   "execution_count": 117,
   "id": "fbacdd57-3ce6-4fdd-a6db-d4feb9677149",
   "metadata": {},
   "outputs": [
    {
     "data": {
      "text/plain": [
       "array(['Life,  Drama,  Family ',\n",
       "       'Thriller,  Romance,  Crime,  Melodrama ',\n",
       "       'Friendship,  Romance,  Life,  Medical ',\n",
       "       'Psychological,  Life,  Drama,  Family ',\n",
       "       'Comedy,  Romance,  Youth,  Family ', 'Action, Youth, Drama\\r',\n",
       "       'Comedy,  Crime,  Life,  Drama ',\n",
       "       'Action, Historical, Romance, Fantasy ',\n",
       "       'Law, Romance, Life, Drama ',\n",
       "       'Historical,  Mystery,  Comedy,  Romance ',\n",
       "       'Thriller,  Mystery,  Psychological,  Melodrama ',\n",
       "       'Psychological,  Comedy,  Romance,  Drama ',\n",
       "       'Military,  Comedy,  Romance,  Political ',\n",
       "       'Comedy,  Law,  Crime,  Drama ',\n",
       "       'Friendship,  Life,  Drama,  Family ',\n",
       "       'Thriller,  Mystery,  Sci-Fi ',\n",
       "       'Military,  Historical,  Romance,  Melodrama ',\n",
       "       'Action,  Thriller,  Drama,  Fantasy ',\n",
       "       'Thriller,  Historical,  Horror,  Supernatural ',\n",
       "       'Mystery,  Psychological,  Drama,  Family ',\n",
       "       'Action, Thriller, Drama, Fantasy ',\n",
       "       'Action,  Thriller,  Mystery,  Romance ',\n",
       "       'Thriller,  Mystery,  Law,  Drama ',\n",
       "       'Romance, Life, Drama, Melodrama ',\n",
       "       'Historical, Romance, Drama, Melodrama ',\n",
       "       'Comedy,  Romance,  Fantasy,  Melodrama ',\n",
       "       'Action,  Mystery,  Drama,  Supernatural ',\n",
       "       'Thriller,  Historical,  Horror,  Political ',\n",
       "       'Comedy,  Romance,  Youth,  Sports ',\n",
       "       'Action,  Military,  Comedy,  Drama ',\n",
       "       'Mystery,  Law,  Crime,  Drama ',\n",
       "       'Thriller,  Mystery,  Drama,  Family ',\n",
       "       'Historical,  Romance,  Drama,  Melodrama ',\n",
       "       'Action,  Thriller,  Mystery,  Drama ',\n",
       "       'Action,  Mystery,  Comedy,  Supernatural ',\n",
       "       'Thriller,  Mystery,  Psychological,  Drama ',\n",
       "       'Friendship,  Comedy,  Youth,  Sports ',\n",
       "       'Comedy,  Romance,  Life ',\n",
       "       'Action,  Historical,  Drama,  Political ',\n",
       "       'Romance, Life, Youth, Drama ',\n",
       "       'Thriller,  Mystery,  Horror,  Supernatural ',\n",
       "       'Life,  Drama,  Family,  Melodrama ',\n",
       "       'Mystery,  Romance,  Drama,  Fantasy ',\n",
       "       'Comedy,  Romance,  Supernatural,  Political ',\n",
       "       'Romance,  Life,  Drama,  Fantasy ',\n",
       "       'Historical,  Romance,  Fantasy,  Political ',\n",
       "       'Thriller, Mystery, Crime, Drama ',\n",
       "       'Romance,  Drama,  Medical,  Melodrama ',\n",
       "       'Romance, Life, Drama, Melodrama',\n",
       "       'Horror,  Drama,  Sci-Fi,  Supernatural ',\n",
       "       'Historical,  Romance,  Melodrama ', 'Comedy, Romance, Drama',\n",
       "       'Friendship,  Business,  Life,  Drama ',\n",
       "       'Action,  Thriller,  Comedy,  Romance,  Drama,  Supernatural ',\n",
       "       'Action,  Mystery,  Comedy,  Crime ', 'Action,  Thriller,  Crime ',\n",
       "       'Horror,  Comedy,  Romance,  Fantasy ',\n",
       "       'Drama,  Sports,  Melodrama ', 'Romance,  Drama,  Medical ',\n",
       "       'Action,  Comedy,  Romance,  Melodrama ',\n",
       "       'Thriller,  Horror,  Psychological,  Drama ',\n",
       "       'Friendship,  Comedy,  Romance,  Crime ',\n",
       "       'Thriller,  Mystery,  Sci-Fi,  Fantasy ',\n",
       "       'Mystery,  Law,  Drama,  Medical ',\n",
       "       'Food,  Historical,  Romance,  Medical ',\n",
       "       'Action, Thriller, Mystery, Drama',\n",
       "       'Comedy, Medical, Fantasy, Supernatural',\n",
       "       'Comedy,  Life,  Youth,  Drama ',\n",
       "       'Action,  Historical,  Romance,  Political ',\n",
       "       'Thriller,  Mystery,  Psychological,  Crime,  Drama ',\n",
       "       'Business,  Comedy,  Crime,  Drama ', 'Thriller, Mystery, Drama',\n",
       "       'Thriller, Mystery, Law, Drama',\n",
       "       'Comedy,  Romance,  Life,  School,  Drama,  Family,  Supernatural ',\n",
       "       'Historical,  Romance,  Melodrama,  Political ',\n",
       "       'Comedy,  Romance,  Drama,  Family ',\n",
       "       'Thriller,  Mystery,  Supernatural ',\n",
       "       'Thriller,  Mystery,  Drama,  Political ', 'Law, Drama',\n",
       "       'Action,  Thriller,  Romance,  Crime ',\n",
       "       'Comedy,  Romance,  Drama,  Supernatural ',\n",
       "       'Mystery,  Comedy,  Family,  Fantasy ',\n",
       "       'Friendship,  Romance,  Life,  Youth ',\n",
       "       'Psychological,  Romance,  Melodrama ',\n",
       "       'Action, Thriller, Mystery, Comedy',\n",
       "       'Thriller,  Mystery,  Drama,  Fantasy ',\n",
       "       'Horror,  Comedy,  Romance,  Supernatural ',\n",
       "       'Friendship,  Comedy,  Life,  Drama ',\n",
       "       'Action,  Thriller,  Historical,  Romance ',\n",
       "       'Thriller,  Mystery,  Drama,  Melodrama ',\n",
       "       'Action,  Thriller,  Psychological,  Crime ',\n",
       "       'Life,  School,  Family,  Melodrama ',\n",
       "       'Action,  Thriller,  Drama,  Sci-Fi ',\n",
       "       'Mystery,  Law,  Romance,  Supernatural ',\n",
       "       'Friendship,  Business,  Comedy,  Romance ',\n",
       "       'Action,  Thriller,  Mystery,  Crime ',\n",
       "       'Thriller, Mystery, Law, Crime',\n",
       "       'Comedy,  Romance,  Life,  Family ',\n",
       "       'Mystery,  Romance,  Life,  Medical ',\n",
       "       'Romance, Drama, Melodrama, Supernatural',\n",
       "       'Thriller, Mystery, Psychological',\n",
       "       'Business,  Comedy,  Romance,  Sports ',\n",
       "       'Thriller, Comedy, Romance, Fantasy',\n",
       "       'Historical, Romance, Drama, Political',\n",
       "       'Comedy,  Romance,  Drama ', 'Music, Mystery, Comedy, Romance',\n",
       "       'Thriller,  Comedy,  Romance,  Drama,  Family ',\n",
       "       'Comedy, Romance, Life, Melodrama',\n",
       "       'Business, Romance, Life, Drama',\n",
       "       'Romance, Drama, Melodrama, Political',\n",
       "       'Thriller, Mystery, Sci-Fi', 'Comedy,  Romance,  Life,  Drama ',\n",
       "       'Action, Historical, Romance, Political', 'Comedy, Life, Drama',\n",
       "       'Adventure, Historical, Mystery, Romance',\n",
       "       'Business, Comedy, Romance, Life',\n",
       "       'Comedy, Romance, Drama, Fantasy',\n",
       "       'Thriller, Romance, Drama, Melodrama',\n",
       "       'Action, Thriller, Horror, Sci-Fi',\n",
       "       'Psychological, Crime, Youth, Drama', 'Life, Drama, Melodrama',\n",
       "       'Historical, Comedy, Romance, Fantasy', 'Comedy, Law, Drama',\n",
       "       'Romance, Life, Drama, Medical', 'Comedy, Romance, Drama, Sci-Fi',\n",
       "       'Action, Thriller, Mystery, Supernatural',\n",
       "       'Business, Comedy, Romance, Drama',\n",
       "       'Mystery, Comedy, Romance, Fantasy',\n",
       "       'Thriller, Mystery, Psychological, Drama',\n",
       "       'Historical, Romance, Supernatural, Political',\n",
       "       'Historical, Romance, Melodrama, Political',\n",
       "       'Action, Thriller, Mystery', 'Comedy, Life, Drama, Melodrama',\n",
       "       'Mystery, Romance, Supernatural',\n",
       "       'Comedy, Romance, Youth, Fantasy',\n",
       "       'Thriller, Mystery, Comedy, Romance',\n",
       "       'Thriller, Law, Crime, Medical',\n",
       "       'Romance, Drama, Sports, Melodrama', 'Life, Drama',\n",
       "       'Mystery, Comedy, Romance, Life', 'Romance, Drama, Melodrama',\n",
       "       'Action, Military, Mystery, Law',\n",
       "       'Historical, Romance, Drama, Melodrama',\n",
       "       'Comedy, Romance, Fantasy', 'Comedy, Romance, Life',\n",
       "       'Action, Historical, Romance, Drama',\n",
       "       'Thriller, Mystery, Comedy, Fantasy',\n",
       "       'Thriller, Mystery, Romance, Melodrama',\n",
       "       'Thriller, Mystery, Law, Medical', 'Comedy, Romance, Youth, Drama',\n",
       "       'Action, Historical, Comedy, Romance',\n",
       "       'Thriller, Mystery, Comedy, Crime',\n",
       "       'Comedy, Romance, Melodrama, Supernatural',\n",
       "       'Thriller, Horror, Romance, Fantasy',\n",
       "       'Thriller, Mystery, Romance, Supernatural', 'Music, Romance',\n",
       "       'Action, Thriller, Crime', 'Thriller, Mystery, Law, Youth',\n",
       "       'Historical, Comedy, Romance, Drama', 'Romance, Life, Youth',\n",
       "       'Thriller, Romance, Melodrama',\n",
       "       'Music, Psychological, Drama, Fantasy',\n",
       "       'Mystery, Horror, Youth, Supernatural', 'Comedy, Life',\n",
       "       'Thriller, Comedy, Romance, Supernatural',\n",
       "       'Thriller, Mystery, Drama, Supernatural', 'Comedy, Life, Sitcom',\n",
       "       'Action, Thriller, Mystery, Crime',\n",
       "       'Thriller, Mystery, Drama, Melodrama',\n",
       "       'Music, Historical, Romance, Melodrama',\n",
       "       'Adventure, Historical, Romance, Drama',\n",
       "       'Action, Mystery, Drama, Supernatural',\n",
       "       'Business, Romance, Melodrama',\n",
       "       'Thriller, Mystery, Psychological, Crime',\n",
       "       'Mystery, Law, Drama, Fantasy', 'Comedy, Romance, Sci-Fi, Fantasy',\n",
       "       'Romance, Life, Drama, Sports',\n",
       "       'Thriller, Mystery, Romance, Drama',\n",
       "       'Action, Mystery, Comedy, Drama',\n",
       "       'Action, Thriller, Mystery, Law, Crime',\n",
       "       'Action, Mystery, Comedy, Romance',\n",
       "       'Mystery, Comedy, Law, Romance', 'Comedy, Law, Romance, Drama',\n",
       "       'Comedy, Drama, Melodrama', 'Comedy, Law, Romance, Fantasy',\n",
       "       'Thriller, Comedy, Law, Romance', 'Action, Thriller, Law, Romance',\n",
       "       'Thriller, Mystery, Drama, Political',\n",
       "       'Comedy, Romance, Drama, Melodrama',\n",
       "       'Adventure, Life, Fantasy, Melodrama', 'Romance, Youth, Drama',\n",
       "       'Thriller, Mystery, Drama, Fantasy',\n",
       "       'Historical, Mystery, Political', 'Romance, Drama, Medical',\n",
       "       'Thriller, Mystery, Crime, Fantasy', 'Comedy, Law, Romance, Life',\n",
       "       'Action, Mystery, Comedy, Crime', 'Historical, Romance, Drama',\n",
       "       'Food, Comedy, Romance, Drama', 'Thriller, Mystery',\n",
       "       'Romance, Life, Youth, Drama', 'Mystery, Medical',\n",
       "       'Historical, Romance, Medical, Fantasy',\n",
       "       'Law, Romance, Life, Drama', 'Horror, Comedy, Romance, Fantasy'],\n",
       "      dtype=object)"
      ]
     },
     "execution_count": 117,
     "metadata": {},
     "output_type": "execute_result"
    }
   ],
   "source": [
    "df['Genre'].unique()"
   ]
  },
  {
   "cell_type": "code",
   "execution_count": 123,
   "id": "a534c43d-437e-4d00-bad9-34f0142611a7",
   "metadata": {},
   "outputs": [],
   "source": [
    "# # 장르 데이터 개수 계산\n",
    "# genre_counts = df['Genre'].value_counts()"
   ]
  },
  {
   "cell_type": "code",
   "execution_count": 31,
   "id": "bfe04fe9-6200-4750-9330-69c98adb78e3",
   "metadata": {},
   "outputs": [
    {
     "data": {
      "text/plain": [
       "Genre\n",
       "Thriller, Mystery, Drama                     4\n",
       "Comedy, Romance, Drama                       4\n",
       "Psychological,  Comedy,  Romance,  Drama     4\n",
       "Romance, Life, Drama, Melodrama              4\n",
       "Action, Thriller, Mystery, Drama             3\n",
       "                                            ..\n",
       "Comedy,  Romance,  Drama,  Supernatural      1\n",
       "Mystery,  Comedy,  Family,  Fantasy          1\n",
       "Friendship,  Romance,  Life,  Youth          1\n",
       "Psychological,  Romance,  Melodrama          1\n",
       "Horror, Comedy, Romance, Fantasy             1\n",
       "Name: count, Length: 205, dtype: int64"
      ]
     },
     "execution_count": 31,
     "metadata": {},
     "output_type": "execute_result"
    }
   ],
   "source": [
    "df['Genre'].value_counts()"
   ]
  },
  {
   "cell_type": "code",
   "execution_count": 33,
   "id": "0b9dab1b-2d91-4280-93c2-992aca37258d",
   "metadata": {},
   "outputs": [
    {
     "name": "stdout",
     "output_type": "stream",
     "text": [
      "Total unique words in the array: 29\n",
      "Total unique words in the array: {'Mystery', 'Medical', 'Romance', 'School', 'Supernatural', 'Sci-Fi', 'Political', 'Military', 'Youth', 'Historical', 'Crime', 'Friendship', 'Food', 'Thriller', 'Sports', 'Horror', 'Fantasy', 'Psychological', 'Life', 'Adventure', 'Melodrama', 'Comedy', 'Sitcom', 'Business', 'Law', 'Drama', 'Action', 'Family', 'Music'}\n"
     ]
    }
   ],
   "source": [
    "# 모든 단어를 저장할 빈 세트 생성\n",
    "unique_words = set()\n",
    "\n",
    "# 배열 내의 각 문자열을 공백으로 분리하고 세트에 추가\n",
    "for genre in df['Genre'] :\n",
    "    words = [word.strip(',') for word in genre.split()]\n",
    "    unique_words.update(words)\n",
    "\n",
    "# 세트의 길이를 출력하여 고유한 단어의 수를 확인\n",
    "print(\"Total unique words in the array:\", len(unique_words))\n",
    "print(\"Total unique words in the array:\", unique_words)"
   ]
  },
  {
   "cell_type": "code",
   "execution_count": 131,
   "id": "66b7cbfd-5eb8-431e-a8fa-b404fb2c7a5d",
   "metadata": {},
   "outputs": [
    {
     "data": {
      "text/plain": [
       "{'Action',\n",
       " 'Adventure',\n",
       " 'Business',\n",
       " 'Comedy',\n",
       " 'Crime',\n",
       " 'Drama',\n",
       " 'Family',\n",
       " 'Fantasy',\n",
       " 'Food',\n",
       " 'Friendship',\n",
       " 'Historical',\n",
       " 'Horror',\n",
       " 'Law',\n",
       " 'Life',\n",
       " 'Medical',\n",
       " 'Melodrama',\n",
       " 'Military',\n",
       " 'Music',\n",
       " 'Mystery',\n",
       " 'Political',\n",
       " 'Psychological',\n",
       " 'Romance',\n",
       " 'School',\n",
       " 'Sci-Fi',\n",
       " 'Sitcom',\n",
       " 'Sports',\n",
       " 'Supernatural',\n",
       " 'Thriller',\n",
       " 'Youth'}"
      ]
     },
     "execution_count": 131,
     "metadata": {},
     "output_type": "execute_result"
    }
   ],
   "source": [
    "unique_words"
   ]
  },
  {
   "cell_type": "code",
   "execution_count": 43,
   "id": "8a058a0c-f747-4ba6-bc06-ae5e5d9053f5",
   "metadata": {},
   "outputs": [
    {
     "data": {
      "text/plain": [
       "6                                      Weak Hero Class 1\n",
       "8                                       Alchemy of Souls\n",
       "18                                             Happiness\n",
       "21                                              Tomorrow\n",
       "22                                                Healer\n",
       "27                                   The Uncanny Counter\n",
       "31                                                  D.P.\n",
       "35                                           Taxi Driver\n",
       "36                                          Life on Mars\n",
       "40                                    Six Flying Dragons\n",
       "59                             Strong Woman Do Bong Soon\n",
       "60                                      The Fiery Priest\n",
       "61                                               My Name\n",
       "65                                Descendants of the Sun\n",
       "74                                          Little Women\n",
       "77                                       The Bridal Mask\n",
       "90                                            Cruel City\n",
       "95                                               Save Me\n",
       "96                                         Bad and Crazy\n",
       "100                                                Rebel\n",
       "102                                             Bad Guys\n",
       "105                                               Kairos\n",
       "108                                             Vagabond\n",
       "115                                           Squid Game\n",
       "127                                   The Princess's Man\n",
       "129                                            Two Weeks\n",
       "135                                   All of Us Are Dead\n",
       "143                                             Memorist\n",
       "154                                              Mad Dog\n",
       "165                         Military Prosecutor Doberman\n",
       "169                              My Country: The New Age\n",
       "171                                               Player\n",
       "176                                    The Tale of Nokdu\n",
       "180                                   The Good Detective\n",
       "184                                          City Hunter\n",
       "198                                             The Veil\n",
       "200                                       Gu Family Book\n",
       "203                                 Vampire Prosecutor 2\n",
       "209    Money Heist: Korea - Joint Economic Area - Part 1\n",
       "213                 Team Bulldog: Off-duty Investigation\n",
       "214                                        The Guardians\n",
       "215                                     Terius Behind Me\n",
       "223                                       Lawless Lawyer\n",
       "236                                             Leverage\n",
       "249                               Voice 4: Judgment Hour\n",
       "Name: Name, dtype: object"
      ]
     },
     "execution_count": 43,
     "metadata": {},
     "output_type": "execute_result"
    }
   ],
   "source": [
    "# 장르별 드라마 보기\n",
    "df[df['Genre'].str.contains('Action', case=False, na=False)]['Name']"
   ]
  },
  {
   "cell_type": "code",
   "execution_count": 45,
   "id": "6cda694d-c2f8-4705-9641-4c01adb07eb7",
   "metadata": {},
   "outputs": [
    {
     "name": "stdout",
     "output_type": "stream",
     "text": [
      "Counter({'Romance': 136, 'Drama': 129, 'Mystery': 90, 'Comedy': 88, 'Thriller': 86, 'Life': 45, 'Action': 45, 'Melodrama': 43, 'Historical': 34, 'Fantasy': 34, 'Law': 27, 'Crime': 26, 'Supernatural': 24, 'Psychological': 19, 'Political': 18, 'Youth': 17, 'Family': 15, 'Medical': 15, 'Sci-Fi': 11, 'Horror': 11, 'Friendship': 9, 'Business': 9, 'Sports': 6, 'Military': 4, 'Music': 4, 'Adventure': 3, 'Food': 2, 'School': 2, 'Sitcom': 1})\n"
     ]
    }
   ],
   "source": [
    "from collections import Counter\n",
    "# 각 장르 단어의 등장 횟수 세기\n",
    "genre_counts = Counter()\n",
    "\n",
    "# 데이터에서 각 행을 읽어와서 장르 단어를 분리하고 카운트하기\n",
    "for i in df['Genre']:\n",
    "    genres = i.split(', ')\n",
    "    for genre in genres:\n",
    "        genre_counts[genre.strip()] += 1\n",
    "\n",
    "print(genre_counts)"
   ]
  },
  {
   "cell_type": "code",
   "execution_count": 161,
   "id": "35658768-fff5-48dc-8759-3cf0506fd589",
   "metadata": {},
   "outputs": [
    {
     "data": {
      "image/png": "[encoded data removed]",
      "text/plain": [
       "<Figure size 1000x800 with 1 Axes>"
      ]
     },
     "metadata": {},
     "output_type": "display_data"
    }
   ],
   "source": [
    "# 장르 카운트 데이터를 리스트로 변환\n",
    "# labels = list(genre_counts.keys())\n",
    "# sizes = list(genre_counts.values())\n",
    "\n",
    "# 상위 15개 장르 추출\n",
    "top_genres = genre_counts.most_common(15)\n",
    "labels = [genre[0] for genre in top_genres]\n",
    "sizes = [genre[1] for genre in top_genres]\n",
    "\n",
    "# 파이차트 그리기\n",
    "plt.figure(figsize=(10, 8))\n",
    "plt.pie(sizes, labels=labels, autopct='%1.1f%%', startangle=30, wedgeprops={'width':0.7})\n",
    "plt.axis('equal')  # 원 모양으로 조정\n",
    "plt.title('장르별 드라마 수 비율')\n",
    "plt.show()"
   ]
  },
  {
   "cell_type": "code",
   "execution_count": 165,
   "id": "f624e59c-48ca-4243-b89c-de80939ad1da",
   "metadata": {},
   "outputs": [
    {
     "data": {
      "image/png": "[encoded data removed]",
      "text/plain": [
       "<Figure size 1000x600 with 1 Axes>"
      ]
     },
     "metadata": {},
     "output_type": "display_data"
    }
   ],
   "source": [
    "# 에피소드 수와 시청 시간 시각화\n",
    "plt.figure(figsize=(10, 6))\n",
    "sb.scatterplot(x='Number of Episodes', y='Duration', data=df)\n",
    "plt.title('Number of Episodes vs. Duration')\n",
    "plt.xlabel('Number of Episodes')\n",
    "plt.ylabel('Duration (minutes)')\n",
    "plt.grid(True)\n",
    "plt.show()"
   ]
  },
  {
   "cell_type": "code",
   "execution_count": 215,
   "id": "9f9a767c-a449-4942-972f-0dc05de1d0ee",
   "metadata": {},
   "outputs": [
    {
     "data": {
      "text/plain": [
       "185"
      ]
     },
     "execution_count": 215,
     "metadata": {},
     "output_type": "execute_result"
    }
   ],
   "source": [
    "df['Director'].nunique()"
   ]
  },
  {
   "cell_type": "code",
   "execution_count": 227,
   "id": "0bc7f3f7-1123-4b66-a0f5-4f656dfe2e59",
   "metadata": {},
   "outputs": [
    {
     "data": {
      "text/plain": [
       "1"
      ]
     },
     "execution_count": 227,
     "metadata": {},
     "output_type": "execute_result"
    }
   ],
   "source": [
    "(df['Director'] == ' ').sum()"
   ]
  },
  {
   "cell_type": "code",
   "execution_count": 233,
   "id": "de864075-603c-41a6-bb9b-7b54adc2f501",
   "metadata": {},
   "outputs": [
    {
     "data": {
      "image/png": "[encoded data removed]",
      "text/plain": [
       "<Figure size 1200x800 with 1 Axes>"
      ]
     },
     "metadata": {},
     "output_type": "display_data"
    }
   ],
   "source": [
    "# 감독별 평균 평점 계산\n",
    "# director_ratings = df.groupby('Director')['Rating'].mean().sort_values(ascending=False).head(10)\n",
    "\n",
    "# ' ' 데이터 제외하고 감독별 평균 평점 계산\n",
    "director_ratings = df[df['Director'] != ''].groupby('Director')['Rating'].mean().sort_values(ascending=False).head(10)\n",
    "\n",
    "# 시각화\n",
    "plt.figure(figsize=(12, 8))\n",
    "director_ratings.plot(kind='bar')\n",
    "plt.title('Top 10 Directors by Average Rating')\n",
    "plt.xlabel('Director')\n",
    "plt.ylabel('Average Rating')\n",
    "plt.xticks(rotation=45)\n",
    "plt.show()"
   ]
  },
  {
   "cell_type": "code",
   "execution_count": 171,
   "id": "b6a6045b-ad4e-4fbe-98e0-b8403acfce5f",
   "metadata": {},
   "outputs": [
    {
     "data": {
      "text/plain": [
       "249"
      ]
     },
     "execution_count": 171,
     "metadata": {},
     "output_type": "execute_result"
    }
   ],
   "source": [
    "df['Cast'].nunique()"
   ]
  },
  {
   "cell_type": "code",
   "execution_count": 173,
   "id": "cff6a90e-18d2-4eab-b10f-97b7aa413989",
   "metadata": {},
   "outputs": [
    {
     "data": {
      "text/plain": [
       "array(['Lee Je Hoon, Tang Jun Sang, Hong Seung Hee, Jung Suk Yong, Jung Young Joo, Lee Moon Shik',\n",
       "       'Lee Joon Gi, Moon Chae Won, Jang Hee Jin, Seo Hyun Woo, Nam Ki Ae, Son Jong Hak',\n",
       "       'Jo Jung Suk, Yoo Yeon Seok, Jung Kyung Ho, Kim Dae Myung, Jeon Mi Do, Shin Hyun Bin',\n",
       "       'Lee Sun Kyun, IU, Park Ho San, Song Sae Byuk, Lee Ji Ah, Kim Young Min',\n",
       "       'Lee Hye Ri, Go Kyung Pyo, Ryu Joon Yeol, Park Bo Gum, Lee Dong Hwi, Sung Dong Il',\n",
       "       'Park Ji Hoon, Choi Hyun Wook, Hong Kyung, Kim Su Gyeom, Lee Yeon, Shin Seung Ho',\n",
       "       'Park Hae Soo, Jung Kyung Ho, Krystal Jung, Im Hwa Young, Ye Soo Jung, Kim Kyung Nam',\n",
       "       'Lee Jae Wook, Jung So Min, Hwang Hyun Min, Shin Seung Ho, Yoo Joon Sang, Oh Na Ra',\n",
       "       'Park Eun Bin, Kang Tae Oh, Kang Ki Young, Jeon Bae Soo, Baek Ji Won, Jin Kyung',\n",
       "       'Shin Hye Sun, Kim Jung Hyun, Bae Jong Ok, Kim Tae Woo, Jo Yun Hee, Seol In Ah',\n",
       "       'Lee Bo Young, Heo Yool, Lee Hye Young, Go Sung Hee, Lee Jae Yoon, Go Bo Gyeol',\n",
       "       'Kim Soo Hyun, Seo Yea Ji, Oh Jung Se, Park Gyu Young, Jang Young Nam, Kim Chang Wan',\n",
       "       'Hyun Bin, Son Ye Jin, Seo Ji Hye, Kim Jung Hyun, Yang Kyung Won, Lee Shin Young',\n",
       "       'Song Joong Ki, Jeon Yeo Been, Ok Taec Yeon, Kim Yeo Jin, Jo Han Chul, Kwak Dong Yeon',\n",
       "       'Park In Hwan, Song Kang, Na Moon Hee, Hong Seung Hee, Kim Tae Hoon, Yoon  Ji Hye',\n",
       "       'Lee Je Hoon, Kim Hye Soo, Jo Jin Woong, Kim Won Hae, Lee Yoo Joon, Jang Hyun Sung',\n",
       "       'Lee Byung Hun, Kim Tae Ri, Kim Min Jung, Yoo Yeon Seok, Byun Yo Han, Kim Gab Soo',\n",
       "       'Han Hyo Joo, Park Hyung Sik, Jo  Woo Jin, Lee Joon Hyuk, Park Joo Hee, Baek Hyun Jin',\n",
       "       'Joo Ji Hoon, Bae Doo Na, Kim Sung Gyu, Ryu Seung Ryong, Kim  Sang Ho, Jun Suk Ho',\n",
       "       'Yeom Jung Ah, Lee Tae Ran, Yoon Se Ah, Oh Na Ra, Kim Seo Hyung, Jung Joon Ho',\n",
       "       'Kim Hee Sun, Rowoon, Lee Soo Hyuk, Yun Ji On, Kim Hae Sook, Kim Nu Ri',\n",
       "       'Ji Chang Wook, Park Min Young, Yoo Ji Tae, Kim  Mi Kyung, Park Sang Won, Do Ji Won',\n",
       "       'Jo Seung Woo, Bae Doo Na, Lee Joon Hyuk, Yoo Jae Myung, Shin Hye Sun, Choi Jae Woong',\n",
       "       'Kim Tae Ri, Nam Joo Hyuk, Bona, Choi Hyun Wook, Lee Joo Myung, Seo Jae Hee',\n",
       "       'Lee Jun Ho, Lee Se Young, Kang Hoon, Lee Deok Hwa, Park Ji Young, Jang Hee Jin',\n",
       "       'Gong Yoo, Kim Go Eun, Lee Dong Wook, Yoo In Na, Yook Sung Jae, Lee El',\n",
       "       'Cho Byeong Kyu, Yoo  Joon Sang, Kim Se Jeong, Yeom Hye Ran, Ahn Suk Hwan, Lee Hong Nae',\n",
       "       'Lee Seung Gi, Lee Hee Joon, Park Joo Hyun, Kyung Soo Jin, Woo Ji Hyun, Ahn Jae Wook',\n",
       "       'Joo Ji Hoon, Ryu Seung Ryong, Bae Doo Na, Kim Sung Gyu, Kim Chan Yi, Kim  Sang Ho',\n",
       "       'Lee Sung Kyung, Nam Joo Hyuk, Lee Jae Yoon, Kyung Soo Jin, Cho Hye Jung, Lee Joo Young',\n",
       "       'Jung Hae In, Koo Kyo Hwan, Kim Sung Kyun, Son Seok Koo, Hong Kyung, Jo Hyun Chul',\n",
       "       'Ji Sung, Kim Min Jung, Park Jin Young, Park Gyu Young, Jeon Chae Eun, Kim Jae Kyung',\n",
       "       'Lee Ji Ah, Kim So Yeon, Eugene, Uhm Ki Joon, Bong Tae Kyu, Shin Eun Kyung',\n",
       "       'Lee Do Hyun, Go Min Si, Lee Sang Yi, Geum Sae Rok, Oh Man Suk, Uhm Hyo Sub',\n",
       "       'Lee Je Hoon, Esom, Kim Eui Sung, Pyo Ye Jin, Cha Ji Yeon, Jang Hyuk Jin',\n",
       "       'Jung Kyung Ho, Park Sung Woong, Go Ah Sung, Oh Dae Hwan, Noh Jong Hyun, Jun Suk Ho',\n",
       "       'Shin Ha Kyun, Yeo Jin Goo, Choi Dae Hoon, Kim Shin Rok, Choi Sung Eun, Choi Jin Ho',\n",
       "       'Kim Sang Kyung, Oh Na Ra, Tang Jun Sang, Son Sang Yeon, Choi Hyun Wook, Kim Kang Hoon',\n",
       "       'Shin Min Ah, Kim Seon Ho, Lee Sang Yi, In Gyo Jin, Jo Han Chul, Lee Bong Ryun',\n",
       "       'Yoo Ah In, Kim Myung Min, Shin Se Kyung, Byun Yo Han, Yoon Kyun Sang, Chun Ho Jin',\n",
       "       'Choi Woo Shik, Kim Da Mi, Kim Sung Cheol, Roh Jeong Eui, Ahn Dong Goo, Park Jin Joo',\n",
       "       'Kim Dong Wook, Kim Jae Wook, Jung Eun Chae, Lee Won Jong, Park Ho San, Ahn Nae Sang',\n",
       "       'Go Hyun Jung, Kim Hye Ja, Na Moon Hee, Go Doo Shim, Park Won Sook, Youn Yuh Jung',\n",
       "       'Bae Suzy, Lee Jong Suk, Jung Hae In, Lee Sang Yeob, Hwang Young Hee, Shin Jae Ha',\n",
       "       'Kim So Yeon, Eugene, Lee Ji Ah, Uhm Ki Joon, Yoon Jong Hoon, Shin Eun Kyung',\n",
       "       'Yoo Ah In, Im Soo Jung, Go Kyung Pyo, Kwak Shi Yang, Jo  Woo Jin, Oh Na Ra',\n",
       "       'Kim Ha Neul, Yoon Sang Hyun, Lee Do Hyun, Roh Jeong Eui, Ryeoun, Wi Ha Joon',\n",
       "       'Song Joong Ki, Kim Ji Won, Jang Dong Gun, Kim Ok Bin, Jo Sung Ha, Park Hae Joon',\n",
       "       'Song Joong Ki, Kim Ji Won, Jang Dong Gun, Kim Ok Bin, Kim Sung Chul, Karata Erika',\n",
       "       'Kim Nam Gil, Jin Seon Kyu, Kim So Jin, Ryeoun, Lee Dae Yeon, Kim Won Hae',\n",
       "       'Han Seok Kyu, Ahn Hyo Seop, Lee Sung Kyung, Kim Joo Heon, Shin Dong Wook, So Ju Yeon',\n",
       "       'Ji Sung, Uhm Ki Joon, Kwon Yu Ri, Oh Chang Seok, Uhm Hyun Kyung, Jung Dong Gyu',\n",
       "       'Lee Byung Hun, Shin Min Ah, Cha Seung Won, Lee Jung Eun, Uhm Jung Hwa, Han Ji Min',\n",
       "       'Song Kang, Lee Jin Wook, Lee Si Young, Lee Do Hyun, Kim Nam Hee, Go Min Si',\n",
       "       'Ji Sung, Hwang Jung Eum, Park Seo Joon, Kim Yoo Ri, Oh Min Suk, Kim Young Ae',\n",
       "       'Lee Joon Gi, IU, Kang Ha Neul, Hong Jong Hyun, Nam Joo Hyuk, Byun Baek Hyun',\n",
       "       \"Shin Ha Ri is a single woman and works for a company. She has a male friend, who she has had a crush on for a long time, but she learns he has a girlfriend. Shin Ha Ri feels sad and decides to meet her friend Jin Young Seo, who is a daughter of a chaebol family. Jin Young Seo then asks Shin Ha Ri to take her place in a blind date and even offers some money for her time. Shin Ha Ri accepts her friend's offer. She goes out on the blind date as Jin Young Seo, while having the intention to get rejected by her date. When she sees her blind date, Shin Ha Ri is dumbfounded. Her blind date is Kang Tae Mu. He is the CEO of the company where she works. Kang Tae Mu is the CEO of a company that his grandfather founded. One day, his grandfather informed him of an upcoming blind date that he set up for him. Kang Tae Mu is a workaholic and he is annoyed that his grandfather sets up blind dates for him. He decides to marry the next woman whom he meets at a blind date, so he won't be disturbed from his work anymore. That woman is Shin Ha Ri, but pretending to be Jin Young Seo. On the following day, Shin Ha Ri receives a phone call from Kang Tae Mu. He asks her to marry him.\",\n",
       "       'Im Si Wan, Lee Sung Min, Kang So Ra, Kang Ha Neul, Byun Yo Han, Kim Dae Myung',\n",
       "       'Park Bo Young, Park Hyung Sik, Kim Ji Soo, Jun Suk Ho, Shim Hye Jin, Yoo Jae Myung',\n",
       "       'Kim Nam Gil, Kim Sung Kyun, Lee Ha Nee, Go Jun, Geum Sae Rok, Jeon Sung Woo',\n",
       "       'Han So Hee, Park Hee Soon , Ahn Bo Hyun, Lee Hak Joo, Kim  Sang Ho, Jang Yool',\n",
       "       'IU, Yeo Jin Goo, Shin Jung Keun, Bae Hae Seon, P.O, Jo Hyun Chul',\n",
       "       'Namkoong Min, Park Eun Bin, Cho Byeong Kyu, Oh Jung Se, Son Jong Hak, Kim Do Hyun',\n",
       "       'Han Seok Kyu, Yoo Yeon Seok, Seo Hyun Jin, Choi Jin Ho, Yang Se Jong, Jang Hyuk Jin',\n",
       "       'Song Joong Ki, Song Hye Kyo, Jin Goo, Kim Ji Won, Lee Seung Jun, Seo Jung Yeon',\n",
       "       'Kim Myung Min, Kim Bum, Ryu Hye Young, Lee Jung Eun, Lee Soo Kyung, Lee David',\n",
       "       'Im Si Wan, Lee Dong Wook, Lee Jung Eun, Ahn Eun Jin, Park Jong Hwan, Lee Joong Ok',\n",
       "       'Lee Kwang Soo, Jung Yu Mi, Bae Sung Woo, Bae Jong Ok, Sung Dong Il, Jang Hyun Sung',\n",
       "       'Choi Jin Hyuk, Yoon Hyun Min, Lee Yoo Young, Jo Hee Bong, Kim Byung Chul, Kang Ki Young',\n",
       "       'Kim Ji Won, Lee Min Ki, Son Seok Koo, Lee El, Lee Ki Woo, Chun Ho Jin',\n",
       "       'Jung Jae Young, Jung Yoo Mi, Oh Man Suk, Noh Min Woo, Kang Seung Hyun, Park Jun Gyu',\n",
       "       'Lee Young Ae, Ji Jin Hee, Hong Ri Na, Im Ho, Yang  Mi Kyung, Kyeon Mi Ri',\n",
       "       'Jo In Sung, Gong Hyo Jin, Sung Dong Il, Lee Kwang Soo, Jin Kyung, Lee Sung Kyung',\n",
       "       'Kim Go Eun, Nam Ji Hyun, Park Ji Hoo, Wi Ha Joon, Uhm Ki Joon, Uhm Ji Won',\n",
       "       'Rain, Kim Bum, Uee, Son Na Eun, Sung Dong Il, Tae In Ho',\n",
       "       'Kim Jung Hyun, Lee Yi Kyung, Son Seung Won, Jung In Sun, Go Won Hee, Lee Joo Woo',\n",
       "       'Joo Won, Jin Se Yeon, Park Ki Woong, Han Chae Ah, Shin Hyun Joon, Chun Ho Jin',\n",
       "       'Kim Sun Ah, Lee Yi Kyung, Nam Gyu Ri, N, Joo Seok Tae, Na Young Hee',\n",
       "       'Namkoong Min, Nam Sang Mi, Lee Jun Ho, Jung Hye Sung, Kim Won Hae, Kim Kang Hyun',\n",
       "       'Kim Dong Wook, Kim Sung Gyu, Chae Jung An, Choi Hyun Jin, Sim Hyun Seo, Lee Chan Yoo',\n",
       "       'Lee Jong Suk, Im Yoon Ah, Kim Joo Heon, Kwak Dong Yeon, Yang Kyung Won, Ok Ja Yeon',\n",
       "       'Jang Na Ra, Son Ho Jun, Heo Jung Min, Han Bo Reum, Jang Ki Yong, Go Bo Gyeol',\n",
       "       'Ha Ji Won, Ji Chang Wook, Joo Jin Mo, Baek Jin Hee, Kim Ji Han, Kim Seo Hyung',\n",
       "       'Kim Yeong Cheol, Kim Hae Sook, Ryu Soo Young, Lee Yoo Ri, Lee Joon, Jung So Min',\n",
       "       'Chun Ho Jin, Cha Hwa Yun, Lee Jung Eun, Oh Dae Hwan, Lee Min Jung, Lee Sang Yeob',\n",
       "       'Go Soo, Heo Joon Ho, Ahn So Hee, Ha Joon, Seo Eun Soo, Song Geon Hee',\n",
       "       'Jo Seung Woo, Bae Doo Na, Jeon Hye Jin, Choi Moo Sung, Lee Joon Hyuk, Yoon Se Ah',\n",
       "       'Ji Jin Hee, Son Seok Koo, Kang Han Na, Heo Joon Ho, Lee Joon Hyuk, Choi Yoon Young',\n",
       "       'Kim Hye Soo, Kim Mu Yeol, Lee Sung Min, Lee Jung Eun, Lee Sang Hee, Park Ji Yun',\n",
       "       'Jung Kyung Ho, Nam Gyu Ri, Lee Jae Yoon, Son Chang Min, Kim Yoo Mi, Choi Moo Sung',\n",
       "       'Kim Soo Hyun, Jun Ji Hyun, Park Hae Jin, Yoo In Na, Shin Sung Rok, Kim Chang Wan',\n",
       "       'Hwang Jung Eum, Yook Sung Jae, Choi Won Young, Jung Da Eun, Lee Joon Hyuk, Na In Woo',\n",
       "       'Han Ye Ri, Ryu Hwa Young, Park Eun Bin, Han Seung Yeon, Park Hye Soo, Yoon Park',\n",
       "       'Lee Jun Ho, Won Jin Ah, Lee Ki Woo, Kang Han Na, Kim Hye Joon, Yoon Se Ah',\n",
       "       'Seo Yea Ji, Ok Taec Yeon, Woo Do Hwan, Jo Sung Ha, Jo Jae Yoon, Park Ji Young',\n",
       "       'Lee Dong Wook, Wi Ha Joon, Han Ji Eun, Cha Hak Yeon, Sung Ji Ru, Cha Shi Won',\n",
       "       'Lee Joon Hyuk, Nam Ji Hyun, Kim Jee Soo, Lee Sung Wook, Yoon Joo Sang, Ahn Seung Gyun',\n",
       "       'Gong Hyo Jin, So Ji Sub, Seo In Guk, Kim Yoo Ri, Choi Jung Woo, Kim  Mi Kyung',\n",
       "       'Lee Yo Won, Ra Mi Ran, Myung Se Bin, Lee Jun Young, Choi Byung Mo, Jang Yong',\n",
       "       'Yoon Kyun Sang, Chae Soo Bin, Kim Ji Suk, Lee Ha Nee, Kim Sang Joong, Shim Hee Sub',\n",
       "       'Kim Seo Hyung, Ryu Deok Hwan, Park Hoon, Ahn Ji Ho, Min Jin Woong, Kang Ye Won',\n",
       "       'Kim Sang Joong, Park Hae Jin, Jo Dong Hyuk, Ma Dong Seok, Kang Ye Won, Kang Shin Il',\n",
       "       'Park Hee Soon , Choo Ja Hyun, Oh Man Suk, Cho Yeo Jung, Nam  Da Reum , Kim Hwan Hee',\n",
       "       'Song Joong Ki, Kim Ji Won, Jang Dong Gun, Kim Ok Bin, Kim Eui Sung, Lee Do Kyung',\n",
       "       'Shin Sung Rok, Lee Se Young, Ahn Bo Hyun, Nam Gyu Ri, Kang Seung Yoon, Jo Dong In',\n",
       "       'Lee Jong Suk, Lee Bo Young, Yoon Sang Hyun, Lee Da Hee, Jung Woong In, Yoon Joo Sang',\n",
       "       'Park Min Young, Park Seo Joon, Lee Tae Hwan, Pyo Ye Jin, Kim Hye Ok, Kim Byung Ok',\n",
       "       'Lee Seung Gi, Bae Suzy, Shin Sung Rok, Baek  Yoon Shik, Moon Sung Geun, Kim Min Jong',\n",
       "       'Kim Soo Hyun, Cha Seung Won, Lee Seol, Kim Shin Rok, Kim Hong Pa, Kim Sung Gyu',\n",
       "       'Jung Eun Ji, Seo In Guk, Hoya, Shin So Yool, Eun Ji Won, Lee Si Eon',\n",
       "       'Ji Sung, Lee Se Young, Lee Kyu Hyung, Hwang Hee, Jung Min Ah, Kwon Hwa Woon',\n",
       "       'Kim Tae Hee, Lee Kyu Hyung, Go Bo Gyeol, Seo Woo Jin, Shin Dong Mi, Oh Eui Shik',\n",
       "       'Jang Hyuk, Lee  Ha Na, Baek Sung Hyun, Ye Sung, Son Eun Seo, Kim Jae Wook',\n",
       "       'Park Seo Joon, Kim Ji Won, Ahn Jae Hong, Song  Ha Yoon, Kim Sung Oh, Jin Hee Kyung',\n",
       "       'Lee Jung Jae, Park Hae Soo, Jung Ho Yeon, Wi Ha Joon, Anupam Tripathi, Oh Young Soo',\n",
       "       'Han Hyo Joo, Lee Jong Suk, Kim Eui Sung, Lee Tae Hwan, Jung Eugene, Lee Si Eon',\n",
       "       'Lee Yo Won, Go Hyun Jung, Park Ye Jin, Yoo Seung Ho, Kim Nam Gil, Uhm Tae Woong',\n",
       "       'Oh Yeon Seo, Jung Woo, Lee Su Hyun, Ahn Woo Yeon, Kim Nam Hee, Baek Ji Won',\n",
       "       'Park Gyu Young, Kim Min Jae, Kwon Yool, Hwang Hee, Yeonwoo, Park Sang Myun',\n",
       "       'Shin Hye Sun, Yang Se Jong, Ahn Hyo Seop, Ye Ji Won, Wang Ji Won, Yoon Sun Woo',\n",
       "       'Gong Hyo Jin, Kang Ha Neul, Kim Ji Suk, Son Dam Bi, Oh Jung Se, Yeom Hye Ran',\n",
       "       'Chun Woo Hee, Jeon Yeo Been, Han Ji Eun, Ahn Jae Hong, Gong Myung, Lee Joo Bin',\n",
       "       'Park Seo Joon, Kim Da Mi, Kwon Na Ra, Yoo Jae Myung, Ahn Bo Hyun, Kim Dong Hee',\n",
       "       'Jung Hae In, Kim Ji Soo, Jang Seung Jo, Yoo In Na, Yoon Se Ah, Kim Hye Yoon',\n",
       "       'Yeo Jin Goo, Kim Kang Woo, Gong Seung Yeon, Lee Gi Kwang, Ahn Woo Yeon, Seo Hyun Chul',\n",
       "       'Jung So Min, Lee Min Ki, Esom, Park Byung Eun, Kim Ga Eun, Kim Min Seok',\n",
       "       'Park Shi Hoo, Moon Chae Won, Kim Yeong Cheol, Song Jong Ho, Hong Soo Hyun, Lee Min Woo',\n",
       "       'Ok Taec Yeon, Ha Seok Jin, Jung Eun Ji, Jung In Ki, Jung Eui Wook, Park Ji Bin',\n",
       "       'Lee Joon Gi, Park Ha Sun, Ryu Soo Young, Kim So Yeon, Lee Chae Mi, Jo  Min Ki',\n",
       "       'Lee Sun Bin, Han Sun Hwa, Jung Eun Ji, Choi Si Won, Kim Jung Min, Yoo Ji Yeon',\n",
       "       'Han Hyo Joo, Ji Jin Hee, Lee So Yeon, Bae Soo Bin, Park Ha Sun, Jung Jin Young',\n",
       "       'Kwak Dong Yeon, Go Sung Hee, Bae Hyun Sung, Kang  Min Ah, Baek Hyun Jin, Heo Jung Do',\n",
       "       'Kim Myung Soo, Shin Hye Sun, Lee Dong Gun, Kim  Bo Mi, Woo Hee Jin, Gil Eun Hye',\n",
       "       'Kim Hee Ae, Park Hae Joon, Han So Hee, Park Sun Young, Kim Young Min, Chae Gook Hee',\n",
       "       'Park Ji Hoo, Yoon Chan Young, Jo Yi Hyun, Lomon, Yoo In Soo, Kim Byung Chul',\n",
       "       'Kim Dong Hee, Park Ju Hyun, Jung Da Bin, Nam Yoon Su, Choi Min Soo, Park Hyuk Kwon',\n",
       "       'Kim Go Eun, Ahn Bo Hyun, Park Ji Hyun, Lee Yoo Bi, Joo Jong Hyuk, Park Jin Young',\n",
       "       'Jeon Do Yeon, Ryu Joon Yeol, Park Byung Eun, Kim Hyo Jin, Park Ji Young, Park In Hwan',\n",
       "       'Ji Hyun Woo, Yoo In Na, Kim Jin Woo, Ga Deuk Hee, Seo Woo Jin, Kim Won Hae',\n",
       "       'Namkoong Min, Kim Ji Eun, Choi Dae Hoon, Lee Deok Hwa, Park Jin Woo, Ha Sung Kwang',\n",
       "       'Ji Chang Wook, Choi Soo Young, Sung Dong Il, Won Ji An, Yang Hee Kyung, Kil Hae Yeon',\n",
       "       'Yoo Seung Ho, Chae Soo Bin, Uhm Ki Joon, Park Se Wan, Song Jae Ryong, Go Geon Han',\n",
       "       'Yoo Seung Ho, Lee Se Young, Jo Sung Ha, Ko Chang Seok, Yun Ji On, Jeon Hyo Sung',\n",
       "       'Lee  Ha Na, Lee Jin Wook, Kwon Yool, Ahn Se Ha, Son Eun Seo, Kim Woo Seok',\n",
       "       'Park Bo Young, Seo In Guk, Lee Soo Hyuk, Kang Tae Oh, Shin Do Hyun, Dawon',\n",
       "       'Jung Jae Young, Kim Jung Eun, Yang Se Jong, Seo Eun Soo, Kim Ki Doo, Yoon Gyung Ho',\n",
       "       'Im Soo Jung, Lee Da Hee, Jeon Hye Jin, Jang Ki Yong, Lee Jae Wook, Ji Seung Hyun',\n",
       "       'Park Hae Jin, Jin Ki Joo, Jung Joon, Go Gyu Pil, Jung Suk Yong, Park Seo Yeon',\n",
       "       'Seo In Guk, Jang Na Ra, Park Bo Gum, Choi Won Young, Lee Chun Hee, Min Sung Wook',\n",
       "       'Han Ga In, Kim Soo Hyun, Jung Il Woo, Kim Min Seo, Kim Yoo Jung, Yeo Jin Goo',\n",
       "       'Yoon Shi Yoon, Kyung Soo Jin, Shin So Yool, Lee Hang Na, Nam Moon Chul, Jo Wan Ki',\n",
       "       'Lee Sung Kyung, Kim Young Dae, Yoon Jong Hoon, Kim Yoon Hye, Park So Jin, Lee Jung Shin',\n",
       "       'Yeo Jin Goo, Lee Se Young, Kim Sang Kyung, Jang Gwang, Yoon Jong Seok, Yoon Gyung Ho',\n",
       "       'Yoo Ji Tae, Woo Do Hwan, Ryu Hwa Young, Jo Jae Yoon, Kim Hye Sung, Hong Soo Hyun',\n",
       "       'Uhm Ji Won, Park Ha Sun, Choi Ri, Jang Hye Jin, Yoon Park, Im Hwa Young',\n",
       "       'Lee Jin Wook, Lee Seung Joon, Jo Yoon Hee, Oh Min Suk, Lee Yi Kyung, Jo Min Ah',\n",
       "       'Kim Hye Yoon, Rowoon, Lee Jae Wook, Lee Na Eun, Kim Young Dae, Jung Gun Joo',\n",
       "       'Lee Jong Suk, Park Shin Hye, Kim Young Kwang, Lee Yoo Bi, Jin Kyung, Lee Pil Mo',\n",
       "       'Namkoong Min, Kwon Na Ra, Kim Byung Chul, Choi Won Young, Lee Da In, Jin Hee Kyung',\n",
       "       'Park Ju Hyun, Chae Jong Hyeop, Park Ji Hyun, Kim Moo Joon, Seo Ji Hye, Jo Han Chul',\n",
       "       'Han Ye Ri, Kim Ji Suk, Choo Ja Hyun, Jung Jin Young, Won Mi Kyung, Shin Jae Ha',\n",
       "       'Park Min Young, Kim Jae Wook, Ahn Bo Hyun, One, Kim Bo Ra, Park Jin Joo',\n",
       "       'Han Ye Ri, Han Seung Yeon, Park Eun Bin, Ji Woo, Choi A Ra, Kim Min Seok',\n",
       "       'Ji Sung, Hwang Jung Eum, Bae Soo Bin, Lee Da Hee, Lee Deok Hwa, Jo Mi Ryung',\n",
       "       'Ahn Bo Hyun, Jo Bo Ah, Oh Yeon Soo, Kim Young Min, Kim Woo Seok, Kang Mal Geum',\n",
       "       'Kim Min Ha, Youn Yuh Jung, Jin Ha, Lee Min Ho, Jeon Yu Na, Park So Hee',\n",
       "       'Jang Ki Yong, Lee Hye Ri, Kang Han Na, Kim Do Wan, Bae In Hyuk, Park Kyung Hye',\n",
       "       'Kim Go Eun, Park Jin Young, Ahn Bo Hyun, Lee Yoo Bi, Mi Ram, Kwon Seung Woo',\n",
       "       'Yang Se Jong, Woo Do Hwan, Kim Seol Hyun, Jang Hyuk, Kim Yeong Cheol, Ahn Nae Sang',\n",
       "       'Jang Na Ra, Jung Yong Hwa, Kang Hong Suk, Kang Mal Geum, Baek Eun Hye, Ahn Kil Kang',\n",
       "       'Song Seung Heon, Krystal Jung, Lee Si Eon, Tae Won Seok, Kim Won Hae, Ahn Se Ho',\n",
       "       'Lee Min Ho, Jun Ji Hyun, Lee Hee Joon, Shin  Won Ho, Shin Hye Sun, Moon So Ri',\n",
       "       'Jang Ki Yong, Jin Ki Joo, Heo Joon Ho, Yoon Jong Hoon, Kim Kyung Nam, Seo Jung Yeon',\n",
       "       'Jung Jae Young, Jung Yoo Mi, Lee Yi Kyung, Park Eun Seok, Stephanie Lee, Joo Jin Mo',\n",
       "       'Seo Ji Hoon, So Ju Yeon, Kim Min Kyu, Kang Hye Won, Yoon Hyun Soo, Oh Yu Jin',\n",
       "       'Jang Dong Yoon, Kim So Hyun, Kang Tae Oh, Jung Joon Ho, Kim Tae Woo, Yoon Yoo Sun',\n",
       "       'Yoon Shi Yoon, Jung In Sun, Park Sung Hoon, Lee  Han Wi, Hwang Geum Byul, Kim Kyul',\n",
       "       'Seo Hyun Jin, Lee Min Ki, Lee Da Hee, Ahn Jae Hyun, Lee Tae Ri, Moon Ji In',\n",
       "       'Lee Dong Wook, Jo Bo Ah, Kim Bum, Kim Yong Ji, Hwang Hee, Kim Jung Nan',\n",
       "       'Son Hyun Joo, Jang Seung Jo, Lee Elijah, Oh Jung Se, Ji Seung Hyun, Son Jong Hak',\n",
       "       'Park Jin Young, Shin Ye Eun, Kim Kwon, Kim Da Som, Noh Jong Hyun, Go Yoon Jung',\n",
       "       'Jung Hae In, Han Ji Min, Kim Joon Han, Im Sung Eon, Joo Min Kyung, Song Seung Hwan',\n",
       "       'Park Hyung Sik, Han So Hee, Kim Joo Heon, Yoon Byung Hee, Park Min Jung, Park Hoon',\n",
       "       'Lee Min Ho, Park Min Young, Lee Joon Hyuk, Kim Sang Joong, Hwang Sun Hee, Kim Mi Sook',\n",
       "       'Yoon Kyun Sang, Geum Sae Rok, Lee Jun Young, Choi Yoo Hwa, Choi Kyu Jin, Han So Eun',\n",
       "       'Doh Kyung Soo, Nam Ji Hyun, Kim Seon Ho, Han So Hee, Jo Sung Ha, Kim Jae Young',\n",
       "       'Park Ji Hoon, Kang  Min Ah, Bae In Hyuk, Kwon Eun Bin, Choi Jung Woo, Woo Da Vi',\n",
       "       'Lee Yoo Ri, Yeon Jung Hoon, Lee Il Hwa, Im Ju Eun, Go Na Hee, Kwon Hwa Woon',\n",
       "       'Ji Chang Wook, Choi Sung Eun, Hwang In Youp, Oh So Hyun, Ji Hye Won, Hong Jung Min',\n",
       "       'Choi Hyun Suk, Park Ji Hoon, Yoshi, Kim Jun Kyu, Mashiho, Yoon Jae Hyuk',\n",
       "       'Joo Won, Moon Chae Won, Joo Sang Wook, Kim Min Seo, Ha Kyu Won, Kim Hyun Soo',\n",
       "       'Choi Hyun Suk, Park Ji Hoon, Kim Jun Kyu, Yoshi, Mashiho, Yoon Jae Hyuk',\n",
       "       'Kang Daniel, Chae Soo Bin, Lee Shin Young, Park Yoo Na, Park Sung Joon, Min Do Hee',\n",
       "       'Moon Ga Young, Cha Eun Woo, Hwang In Youp, Park Yoo Na, Jang Hye Jin, Park Ho San',\n",
       "       'Park Bo Young, Kim Seul Gi, Jo Jung Suk, Im Joo Hwan, Kang Ki Young, Kwak Shi Yang',\n",
       "       'Lee Bo Young, Cho Seung Woo, Kim Tae Woo, Kim Yoo Bin, Jung Gyu Woon, Kim Jin Hee',\n",
       "       'Lee Kwang Soo, Kim Dae Myung, Jung So Min, Kim Byung Ok, Kim  Mi Kyung, Park Sang Hoon',\n",
       "       'Namkoong Min, Park Ha Sun, Kim Ji Eun, Jang Young Nam, Kim Jong Tae, Kim Do Hyun',\n",
       "       'Im Soo Hyang, Lee Jang Woo, Bae Jong Ok, Lee Kyu Han, Kim Jin Woo, Jeon Jin Seo',\n",
       "       'Lee Seung Gi, Bae Suzy, Lee Sung Jae, Yoo Yeon Seok, Lee Yoo Bi, Sung Joon',\n",
       "       'Lee Jong Suk, Shin Hye Sun, Park Seon Im, Lee Ji Hoon, Han Eun Seo, Kim Kang Hyun',\n",
       "       'Song Il Gook, Han Hye Jin, Kim Seung Soo, Jeon Kwang Ryul, Oh Yeon Soo, Song Ji Hyo',\n",
       "       'Yeon Jung Hoon, Lee Young Ah, Lee Won Jong, Lee Kyung Young, Kim Joo Young, Gong Jung Hwan',\n",
       "       'Im Joo Hwan, Kang So Ra, Kang  Byul, Choi  Tae Joon, Kim Seol Hyun, Shin So Yool',\n",
       "       'Kim Nam Joo, Ji Jin Hee, Jeon Hye Jin, Im Tae Kyung, Go Jun, Jin Ki Joo',\n",
       "       'Lee  Ha Na, Lee Jin Wook, Son Eun Seo, Kim Woo Seok, Kim Joong Ki, Song Boo Geon',\n",
       "       'Lee Jun Ho, Shin Hyun Bin, Yoo Jae Myung, Nam Ki Ae, Yoon Gyung Ho, Ryu Kyung Soo',\n",
       "       'Lee Joon Gi, Lee Kyung Young, Kim Ji Eun, Jung Sang Hoon, Choi Kwang, Hong Bi Ra',\n",
       "       'Yoo Ji Tae, Park Hae Soo, Jeon Jong Seo, Lee Won Jong, Kim Ji Hoon, Jang Yoon Ju',\n",
       "       'Seo Kang Joon, Gong Seung Yeon, Lee Joon Hyuk, Park Hwan Hee, Kim Sung Ryung, Yoo Oh Sung',\n",
       "       'Yim Si Wan, Shin Se Kyung, Choi Soo Young, Kang Tae Oh, Park Young Gyu, Cha Hwa Yun',\n",
       "       'Seo In Guk, Jung So Min, Park Sung Woong, Seo Eun Soo, Go Min Si, Jang Young Nam',\n",
       "       'Cha Tae Hyun, Lee Sun Bin, Jung Sang Hoon, Yoon Gyung Ho, Ji Seung Hyun, Im Chul Hyung',\n",
       "       'Lee Si Young, Kim Young Kwang, Kim Tae Hoon, Kim Seul Gi, Key, Choi Moo Sung',\n",
       "       'So Ji Sub, Jung In Sun, Son Ho Jun, Im Se Mi, Kim Gun Woo, Ok Ye Rin',\n",
       "       'Joo Ji Hoon, Kim Hye Soo, Lee Kyung Young, Kim Ho Jung, Song Young Kyu, Jun Suk Ho',\n",
       "       'Lee Dong Wook, Yoo In Na, Lee Sang Woo, Son Sung Yoon, Oh Jung Se, Shim Hyung Tak',\n",
       "       'Kim Hee Sun, Kim Yoo Jung, Ji Hyun Woo, Kim Ji Soo, Baro, Kim Tae Hoon',\n",
       "       'Rain, Im Ji Yeon, Kwak Shi Yang, Seo Hye Rin, Park Yoon Young, Son Byung Ho',\n",
       "       'Ji Chang Wook, Nam Ji Hyun, Choi  Tae Joon, Kwon Na Ra, Dong Ha, Kim Ye Won',\n",
       "       'Lee Bo Young, Kim Seo Hyung, Ok Ja Yeon, Lee Hyun Wook, Cha Hak Yeon, Jung Yi Seo',\n",
       "       'Park Min Young, Seo Kang Joon, Lee Jae Wook, Kim Hwan Hee, Moon Jung Hee, Im Se Mi',\n",
       "       'Lee Joon Gi, Seo Yea Ji, Lee Hye Young, Choi Min Soo, Lee Ro Woon, Lee Dae Yeon',\n",
       "       'Kim Jae Wook, Krystal Jung, Ha Joon, Yoo In Young, Im Won Hee, Park Han Sol',\n",
       "       'Seo Kang Joon, Han Seok Kyu, Kim Hyun Joo, Park Joo Hee, Heo Sung Tae, Joo Jin Mo',\n",
       "       'Ahn Jae Wook, So Yoo Jin, Sung Hoon, Shin Hye Sun, Shim Hyung Tak, Shim Yi Young',\n",
       "       'Kim Ji Soo, Lee Seol, Oh Hyun Kyung, Yoo Seung Mok, Lee Jong Won, Shin Joo Hwan',\n",
       "       'Lee Sae On, Kang Yoo Seok, Choe Chan Yi, Go Woo Jin, Lee Ki Hyun, Yang Seo Hyun',\n",
       "       'Lee Jin Wook, Kwon Na Ra, Lee Joon, Gong Seung Yeon, Jung Jin Young, Kim Woo Seok',\n",
       "       'Lee Sang Yoon, Kim So Eun, Shin Sung Rok, Cha Soo Yeon, Choi Jin Ho, Choi Yoon So',\n",
       "       'Han Seok Kyu, Jang Hyuk, Shin Se Kyung, Jo Jin Woong, Park Hyuk Kwon, Hyun Woo',\n",
       "       'Lee Yo Won, Nam Gyu Ri, Jung Il Woo, Jo Hyun Jae, Bae Soo Bin, Seo Ji Hye',\n",
       "       'Kim Young Kwang, Jung So Min, Ha Seok Jin, Lee Kyung Young, Kim Hye Eun, Yoon Joo Hee',\n",
       "       'Namkoong Min, Kim Seol Hyun, Lee Chung Ah, Yoon Sun Woo, Yoon Gyung Ho, Kim Tae Woo',\n",
       "       'So Ji Sub, Shin Min Ah, Jung Gyu Woon, Yoo In Young, Sung Hoon, Henry Lau',\n",
       "       'Lee Dong Gun, Jeon Hye Bin, Kim Sae Ron, Kim Kwon, Yeo Hoe Hyun, Choi Ja Hye',\n",
       "       'Park Eun Bin, Rowoon, Nam Yoon Su, Choi Byung Chan, Bae Yoon Kyung, Jung Chae Yeon',\n",
       "       'Jang Dong Gun, Kim Ha Neul, Kim Soo Ro, Kim Min Jong, Lee Jong Hyuk, Yoon Se Ah',\n",
       "       'Shin Se Kyung, Cha Eun Woo, Lee Ji Hoon, Park Ki Woong, Lee Ye Rim, Park Ji Hyun',\n",
       "       'Gong Yoo, Yoon Eun Hye, Lee Sun Kyun, Chae Jung An, Kim Chang Wan, Kim Dong Wook',\n",
       "       'So Ji Sub, Lee Yun Hee, Kwak Do Won, Uhm Ki Joon, Lee Won Keun, Yoon  Ji Hye',\n",
       "       'Lee Yoo Jin, Park Jung Woo, Park Shi An, Bae Hyun Sung, Kim Sae Ron, Kim Hyung Suk',\n",
       "       'Ryu Deok Hwan, Yoon Joo Hee, Park  Hyo Joo, Park Joon Myun, Kim Ki Doo, Kim Jae Won',\n",
       "       'Kim Kang Woo, Park Hee Soon, Jo Bo Ah, Kim  Gyu Chul, Park So Hyun, Oh Soon Tae',\n",
       "       'Kim Nam Gil, Kim Ah Joong, Yoo Min Kyu, Moon Ga Young, Yoon Joo Sang, Uhm Hyo Sub',\n",
       "       'Park Min Young, Yeon Woo Jin, Lee Dong Gun, Jang Hyun Sung, Kang Shin Il, Go Bo Gyeol',\n",
       "       'Lee Sung Min, Kim Jee Soo, Park Jin Hee, Lee Jun Ho, Jeon Noh Min, Yoon So Hee',\n",
       "       'Lee Seung Gi, Cha Seung Won, Oh Yeon Seo, Lee Hong Ki, Jang Gwang, Lee El',\n",
       "       'Lee  Ha Na, Song Seung Heon, Son Eun Seo, Kang Seung Yoon, Baek Sung Hyun, Kim Joong Ki'],\n",
       "      dtype=object)"
      ]
     },
     "execution_count": 173,
     "metadata": {},
     "output_type": "execute_result"
    }
   ],
   "source": [
    "df['Cast'].unique()"
   ]
  },
  {
   "cell_type": "code",
   "execution_count": 181,
   "id": "19aadc6e-de5c-4473-8e84-1a51253f8246",
   "metadata": {},
   "outputs": [
    {
     "data": {
      "image/png": "[encoded data removed]",
      "text/plain": [
       "<Figure size 1200x2000 with 1 Axes>"
      ]
     },
     "metadata": {},
     "output_type": "display_data"
    }
   ],
   "source": [
    "# 캐스트별 출연 횟수 계산\n",
    "cast_counts = df['Cast'].str.split(',').explode().str.strip().value_counts()\n",
    "\n",
    "# 상위 10명 캐스트만 추출\n",
    "top_cast = cast_counts.head(50)\n",
    "\n",
    "# 시각화\n",
    "plt.figure(figsize=(12, 20))\n",
    "top_cast.plot(kind='barh')\n",
    "plt.title('Top 10 Cast Members by Number of Dramas')\n",
    "plt.xlabel('Number of Dramas')\n",
    "plt.ylabel('Cast Member')\n",
    "plt.gca().invert_yaxis()  # 순서 뒤집기 (가장 많은 것이 위에 오도록)\n",
    "plt.show()"
   ]
  },
  {
   "cell_type": "code",
   "execution_count": 185,
   "id": "3c9427bf-fef7-4786-b9e7-ca72db68c1f6",
   "metadata": {},
   "outputs": [
    {
     "data": {
      "text/plain": [
       "5"
      ]
     },
     "execution_count": 185,
     "metadata": {},
     "output_type": "execute_result"
    }
   ],
   "source": [
    "df['Content Rating'].nunique()"
   ]
  },
  {
   "cell_type": "code",
   "execution_count": 187,
   "id": "a01f9012-37fc-489e-ac66-544899063aef",
   "metadata": {},
   "outputs": [
    {
     "data": {
      "text/plain": [
       "array(['18+ Restricted (violence & profanity)', '15+ - Teens 15 or older',\n",
       "       '13+ - Teens 13 or older', ' ', 'G - All Ages'], dtype=object)"
      ]
     },
     "execution_count": 187,
     "metadata": {},
     "output_type": "execute_result"
    }
   ],
   "source": [
    "df['Content Rating'].unique()"
   ]
  },
  {
   "cell_type": "code",
   "execution_count": 189,
   "id": "1ed30418-5670-4c63-9652-d14076ab574c",
   "metadata": {},
   "outputs": [
    {
     "data": {
      "text/plain": [
       "pandas.core.series.Series"
      ]
     },
     "execution_count": 189,
     "metadata": {},
     "output_type": "execute_result"
    }
   ],
   "source": [
    "type(df['Content Rating'])"
   ]
  },
  {
   "cell_type": "code",
   "execution_count": 51,
   "id": "30f778bf-a7f7-46bc-89e2-6ed369b1cf4a",
   "metadata": {},
   "outputs": [
    {
     "data": {
      "image/png": "[encoded data removed]",
      "text/plain": [
       "<Figure size 1000x800 with 1 Axes>"
      ]
     },
     "metadata": {},
     "output_type": "display_data"
    }
   ],
   "source": [
    "# 시청 등급 데이터를 카운트하여 Series로 가져오기\n",
    "R_labels = df['Content Rating'].value_counts()\n",
    "\n",
    "# ' ' 데이터 제외하기\n",
    "R_labels = R_labels[R_labels.index != ' ']\n",
    "\n",
    "# 시청 등급별 개수와 라벨 리스트 생성\n",
    "labels = R_labels.index.tolist()  # 시청 등급\n",
    "sizes = R_labels.values.tolist()  # 개수\n",
    "\n",
    "# 파이차트 그리기\n",
    "plt.figure(figsize=(10, 8))\n",
    "plt.pie(sizes, labels=labels, autopct='%1.1f%%', startangle=30, wedgeprops={'width':0.7})\n",
    "plt.axis('equal')  # 원 모양으로 조정\n",
    "plt.title('시청 등급 비율')\n",
    "plt.show()"
   ]
  },
  {
   "cell_type": "code",
   "execution_count": 53,
   "id": "35ff2722-8170-476c-84df-f95e8f29b509",
   "metadata": {},
   "outputs": [
    {
     "data": {
      "text/plain": [
       "192    It's Okay, That's Friendship\n",
       "Name: Name, dtype: object"
      ]
     },
     "execution_count": 53,
     "metadata": {},
     "output_type": "execute_result"
    }
   ],
   "source": [
    "# 시청가능 연령별 드라마 보기\n",
    "df[df['Content Rating'].str.contains('G - All Ages', case=False, na=False)]['Name']"
   ]
  },
  {
   "cell_type": "markdown",
   "id": "923aded1",
   "metadata": {},
   "source": [
    "평점 평균"
   ]
  },
  {
   "cell_type": "code",
   "execution_count": 13,
   "id": "3914d4ea",
   "metadata": {},
   "outputs": [
    {
     "data": {
      "text/plain": [
       "8.533999999999999"
      ]
     },
     "execution_count": 13,
     "metadata": {},
     "output_type": "execute_result"
    }
   ],
   "source": [
    "R_mean = df['Rating'].mean()\n",
    "R_mean"
   ]
  },
  {
   "cell_type": "code",
   "execution_count": 14,
   "id": "997a4bd1",
   "metadata": {},
   "outputs": [
    {
     "data": {
      "text/plain": [
       "8.8"
      ]
     },
     "execution_count": 14,
     "metadata": {},
     "output_type": "execute_result"
    }
   ],
   "source": [
    "R_m = df['Rating'].quantile(0.9)  #백분위수 .quantile(0.9) : 상위10%\n",
    "R_m"
   ]
  },
  {
   "cell_type": "code",
   "execution_count": 15,
   "id": "0e31d588",
   "metadata": {},
   "outputs": [
    {
     "data": {
      "text/plain": [
       "(42, 17)"
      ]
     },
     "execution_count": 15,
     "metadata": {},
     "output_type": "execute_result"
    }
   ],
   "source": [
    "q_movies = df.copy().loc[df['Rating'] >= R_m]\n",
    "q_movies.shape"
   ]
  },
  {
   "cell_type": "code",
   "execution_count": 16,
   "id": "710cb64b-546e-4c13-980a-ba6946eca892",
   "metadata": {},
   "outputs": [
    {
     "data": {
      "text/plain": [
       "(100, 17)"
      ]
     },
     "execution_count": 16,
     "metadata": {},
     "output_type": "execute_result"
    }
   ],
   "source": [
    "m_movies = df.copy().loc[df['Rating'] >= R_mean]\n",
    "m_movies.shape"
   ]
  },
  {
   "cell_type": "code",
   "execution_count": 17,
   "id": "6859b30a",
   "metadata": {},
   "outputs": [
    {
     "data": {
      "text/plain": [
       "45    8.8\n",
       "24    8.8\n",
       "25    8.8\n",
       "26    8.8\n",
       "27    8.8\n",
       "29    8.8\n",
       "30    8.8\n",
       "32    8.8\n",
       "31    8.8\n",
       "34    8.8\n",
       "35    8.8\n",
       "36    8.8\n",
       "37    8.8\n",
       "38    8.8\n",
       "39    8.8\n",
       "40    8.8\n",
       "33    8.8\n",
       "42    8.8\n",
       "21    8.9\n",
       "23    8.9\n",
       "22    8.9\n",
       "20    8.9\n",
       "18    8.9\n",
       "17    8.9\n",
       "19    8.9\n",
       "8     9.0\n",
       "10    9.0\n",
       "11    9.0\n",
       "9     9.0\n",
       "13    9.0\n",
       "14    9.0\n",
       "15    9.0\n",
       "16    9.0\n",
       "12    9.0\n",
       "7     9.1\n",
       "6     9.1\n",
       "5     9.1\n",
       "4     9.1\n",
       "3     9.1\n",
       "2     9.1\n",
       "1     9.1\n",
       "0     9.2\n",
       "Name: Rating, dtype: float64"
      ]
     },
     "execution_count": 17,
     "metadata": {},
     "output_type": "execute_result"
    }
   ],
   "source": [
    "q_movies['Rating'].sort_values()"
   ]
  },
  {
   "cell_type": "code",
   "execution_count": 18,
   "id": "b2074bea",
   "metadata": {},
   "outputs": [
    {
     "data": {
      "text/html": [
       "<div>\n",
       "<style scoped>\n",
       "    .dataframe tbody tr th:only-of-type {\n",
       "        vertical-align: middle;\n",
       "    }\n",
       "\n",
       "    .dataframe tbody tr th {\n",
       "        vertical-align: top;\n",
       "    }\n",
       "\n",
       "    .dataframe thead th {\n",
       "        text-align: right;\n",
       "    }\n",
       "</style>\n",
       "<table border=\"1\" class=\"dataframe\">\n",
       "  <thead>\n",
       "    <tr style=\"text-align: right;\">\n",
       "      <th></th>\n",
       "      <th>Name</th>\n",
       "      <th>Aired Date</th>\n",
       "      <th>Rating</th>\n",
       "    </tr>\n",
       "  </thead>\n",
       "  <tbody>\n",
       "    <tr>\n",
       "      <th>42</th>\n",
       "      <td>The Guest</td>\n",
       "      <td>Sep 12, 2018 - Nov  1, 2018</td>\n",
       "      <td>8.8</td>\n",
       "    </tr>\n",
       "    <tr>\n",
       "      <th>33</th>\n",
       "      <td>The Penthouse</td>\n",
       "      <td>Oct 26, 2020 - Jan  5, 2021</td>\n",
       "      <td>8.8</td>\n",
       "    </tr>\n",
       "    <tr>\n",
       "      <th>40</th>\n",
       "      <td>Six Flying Dragons</td>\n",
       "      <td>Oct  5, 2015 - Mar 22, 2016</td>\n",
       "      <td>8.8</td>\n",
       "    </tr>\n",
       "    <tr>\n",
       "      <th>27</th>\n",
       "      <td>The Uncanny Counter</td>\n",
       "      <td>Nov 28, 2020 - Jan 24, 2021</td>\n",
       "      <td>8.8</td>\n",
       "    </tr>\n",
       "    <tr>\n",
       "      <th>20</th>\n",
       "      <td>SKY Castle</td>\n",
       "      <td>Nov 23, 2018 - Feb  1, 2019</td>\n",
       "      <td>8.9</td>\n",
       "    </tr>\n",
       "    <tr>\n",
       "      <th>7</th>\n",
       "      <td>Prison Playbook</td>\n",
       "      <td>Nov 22, 2017 - Jan 18, 2018</td>\n",
       "      <td>9.1</td>\n",
       "    </tr>\n",
       "    <tr>\n",
       "      <th>6</th>\n",
       "      <td>Weak Hero Class 1</td>\n",
       "      <td>Nov 18, 2022</td>\n",
       "      <td>9.1</td>\n",
       "    </tr>\n",
       "    <tr>\n",
       "      <th>30</th>\n",
       "      <td>Weightlifting Fairy Kim Bok Joo</td>\n",
       "      <td>Nov 16, 2016 - Jan 11, 2017</td>\n",
       "      <td>8.8</td>\n",
       "    </tr>\n",
       "    <tr>\n",
       "      <th>25</th>\n",
       "      <td>The Red Sleeve</td>\n",
       "      <td>Nov 12, 2021 - Jan 1, 2022</td>\n",
       "      <td>8.8</td>\n",
       "    </tr>\n",
       "    <tr>\n",
       "      <th>5</th>\n",
       "      <td>Reply 1988</td>\n",
       "      <td>Nov  6, 2015 - Jan 16, 2016</td>\n",
       "      <td>9.1</td>\n",
       "    </tr>\n",
       "  </tbody>\n",
       "</table>\n",
       "</div>"
      ],
      "text/plain": [
       "                               Name                   Aired Date  Rating\n",
       "42                        The Guest  Sep 12, 2018 - Nov  1, 2018     8.8\n",
       "33                    The Penthouse  Oct 26, 2020 - Jan  5, 2021     8.8\n",
       "40               Six Flying Dragons  Oct  5, 2015 - Mar 22, 2016     8.8\n",
       "27              The Uncanny Counter  Nov 28, 2020 - Jan 24, 2021     8.8\n",
       "20                       SKY Castle  Nov 23, 2018 - Feb  1, 2019     8.9\n",
       "7                   Prison Playbook  Nov 22, 2017 - Jan 18, 2018     9.1\n",
       "6                 Weak Hero Class 1                 Nov 18, 2022     9.1\n",
       "30  Weightlifting Fairy Kim Bok Joo  Nov 16, 2016 - Jan 11, 2017     8.8\n",
       "25                   The Red Sleeve   Nov 12, 2021 - Jan 1, 2022     8.8\n",
       "5                        Reply 1988  Nov  6, 2015 - Jan 16, 2016     9.1"
      ]
     },
     "execution_count": 18,
     "metadata": {},
     "output_type": "execute_result"
    }
   ],
   "source": [
    "q_movies = q_movies.sort_values('Aired Date', ascending=False)\n",
    "q_movies[['Name', 'Aired Date', 'Rating']].head(10)"
   ]
  },
  {
   "cell_type": "code",
   "execution_count": 19,
   "id": "9d403114",
   "metadata": {},
   "outputs": [
    {
     "data": {
      "image/png": "[encoded data removed]",
      "text/plain": [
       "<Figure size 1200x400 with 1 Axes>"
      ]
     },
     "metadata": {},
     "output_type": "display_data"
    }
   ],
   "source": [
    "pop= df.sort_values('Rating', ascending=False)\n",
    "import matplotlib.pyplot as plt\n",
    "plt.figure(figsize=(12,4))\n",
    "\n",
    "plt.barh(pop['Name'].head(10),pop['Rating'].head(10), align='center',\n",
    "        color='skyblue')\n",
    "plt.gca().invert_yaxis()\n",
    "plt.xlabel(\"Popularity\")\n",
    "plt.title(\"Popular Drama\")\n",
    "plt.show()"
   ]
  },
  {
   "cell_type": "markdown",
   "id": "f5029db5",
   "metadata": {},
   "source": [
    "## 2. 줄거리 기반 필터링\n"
   ]
  },
  {
   "cell_type": "markdown",
   "id": "dcdf53b8",
   "metadata": {},
   "source": [
    "### 줄거리 기반 추천"
   ]
  },
  {
   "cell_type": "code",
   "execution_count": 235,
   "id": "17cdcb6a",
   "metadata": {},
   "outputs": [
    {
     "data": {
      "text/plain": [
       "0    Geu Roo is a young autistic man. He works for ...\n",
       "1    Although Baek Hee Sung is hiding a dark secret...\n",
       "2    The stories of people going through their days...\n",
       "3    Everyday is extraordinary for five doctors and...\n",
       "4    Park Dong Hoon is a middle-aged engineer who i...\n",
       "Name: Synopsis, dtype: object"
      ]
     },
     "execution_count": 235,
     "metadata": {},
     "output_type": "execute_result"
    }
   ],
   "source": [
    "df['Synopsis'].head(5)"
   ]
  },
  {
   "cell_type": "code",
   "execution_count": 237,
   "id": "6703ccc8",
   "metadata": {},
   "outputs": [],
   "source": [
    "from sklearn.feature_extraction.text import TfidfVectorizer\n",
    "tfidf = TfidfVectorizer(stop_words='english')  #영어에서 큰 의미가 없는 단어 제거"
   ]
  },
  {
   "cell_type": "code",
   "execution_count": 239,
   "id": "e9ecee6e",
   "metadata": {},
   "outputs": [
    {
     "data": {
      "text/plain": [
       "frozenset({'a',\n",
       "           'about',\n",
       "           'above',\n",
       "           'across',\n",
       "           'after',\n",
       "           'afterwards',\n",
       "           'again',\n",
       "           'against',\n",
       "           'all',\n",
       "           'almost',\n",
       "           'alone',\n",
       "           'along',\n",
       "           'already',\n",
       "           'also',\n",
       "           'although',\n",
       "           'always',\n",
       "           'am',\n",
       "           'among',\n",
       "           'amongst',\n",
       "           'amoungst',\n",
       "           'amount',\n",
       "           'an',\n",
       "           'and',\n",
       "           'another',\n",
       "           'any',\n",
       "           'anyhow',\n",
       "           'anyone',\n",
       "           'anything',\n",
       "           'anyway',\n",
       "           'anywhere',\n",
       "           'are',\n",
       "           'around',\n",
       "           'as',\n",
       "           'at',\n",
       "           'back',\n",
       "           'be',\n",
       "           'became',\n",
       "           'because',\n",
       "           'become',\n",
       "           'becomes',\n",
       "           'becoming',\n",
       "           'been',\n",
       "           'before',\n",
       "           'beforehand',\n",
       "           'behind',\n",
       "           'being',\n",
       "           'below',\n",
       "           'beside',\n",
       "           'besides',\n",
       "           'between',\n",
       "           'beyond',\n",
       "           'bill',\n",
       "           'both',\n",
       "           'bottom',\n",
       "           'but',\n",
       "           'by',\n",
       "           'call',\n",
       "           'can',\n",
       "           'cannot',\n",
       "           'cant',\n",
       "           'co',\n",
       "           'con',\n",
       "           'could',\n",
       "           'couldnt',\n",
       "           'cry',\n",
       "           'de',\n",
       "           'describe',\n",
       "           'detail',\n",
       "           'do',\n",
       "           'done',\n",
       "           'down',\n",
       "           'due',\n",
       "           'during',\n",
       "           'each',\n",
       "           'eg',\n",
       "           'eight',\n",
       "           'either',\n",
       "           'eleven',\n",
       "           'else',\n",
       "           'elsewhere',\n",
       "           'empty',\n",
       "           'enough',\n",
       "           'etc',\n",
       "           'even',\n",
       "           'ever',\n",
       "           'every',\n",
       "           'everyone',\n",
       "           'everything',\n",
       "           'everywhere',\n",
       "           'except',\n",
       "           'few',\n",
       "           'fifteen',\n",
       "           'fifty',\n",
       "           'fill',\n",
       "           'find',\n",
       "           'fire',\n",
       "           'first',\n",
       "           'five',\n",
       "           'for',\n",
       "           'former',\n",
       "           'formerly',\n",
       "           'forty',\n",
       "           'found',\n",
       "           'four',\n",
       "           'from',\n",
       "           'front',\n",
       "           'full',\n",
       "           'further',\n",
       "           'get',\n",
       "           'give',\n",
       "           'go',\n",
       "           'had',\n",
       "           'has',\n",
       "           'hasnt',\n",
       "           'have',\n",
       "           'he',\n",
       "           'hence',\n",
       "           'her',\n",
       "           'here',\n",
       "           'hereafter',\n",
       "           'hereby',\n",
       "           'herein',\n",
       "           'hereupon',\n",
       "           'hers',\n",
       "           'herself',\n",
       "           'him',\n",
       "           'himself',\n",
       "           'his',\n",
       "           'how',\n",
       "           'however',\n",
       "           'hundred',\n",
       "           'i',\n",
       "           'ie',\n",
       "           'if',\n",
       "           'in',\n",
       "           'inc',\n",
       "           'indeed',\n",
       "           'interest',\n",
       "           'into',\n",
       "           'is',\n",
       "           'it',\n",
       "           'its',\n",
       "           'itself',\n",
       "           'keep',\n",
       "           'last',\n",
       "           'latter',\n",
       "           'latterly',\n",
       "           'least',\n",
       "           'less',\n",
       "           'ltd',\n",
       "           'made',\n",
       "           'many',\n",
       "           'may',\n",
       "           'me',\n",
       "           'meanwhile',\n",
       "           'might',\n",
       "           'mill',\n",
       "           'mine',\n",
       "           'more',\n",
       "           'moreover',\n",
       "           'most',\n",
       "           'mostly',\n",
       "           'move',\n",
       "           'much',\n",
       "           'must',\n",
       "           'my',\n",
       "           'myself',\n",
       "           'name',\n",
       "           'namely',\n",
       "           'neither',\n",
       "           'never',\n",
       "           'nevertheless',\n",
       "           'next',\n",
       "           'nine',\n",
       "           'no',\n",
       "           'nobody',\n",
       "           'none',\n",
       "           'noone',\n",
       "           'nor',\n",
       "           'not',\n",
       "           'nothing',\n",
       "           'now',\n",
       "           'nowhere',\n",
       "           'of',\n",
       "           'off',\n",
       "           'often',\n",
       "           'on',\n",
       "           'once',\n",
       "           'one',\n",
       "           'only',\n",
       "           'onto',\n",
       "           'or',\n",
       "           'other',\n",
       "           'others',\n",
       "           'otherwise',\n",
       "           'our',\n",
       "           'ours',\n",
       "           'ourselves',\n",
       "           'out',\n",
       "           'over',\n",
       "           'own',\n",
       "           'part',\n",
       "           'per',\n",
       "           'perhaps',\n",
       "           'please',\n",
       "           'put',\n",
       "           'rather',\n",
       "           're',\n",
       "           'same',\n",
       "           'see',\n",
       "           'seem',\n",
       "           'seemed',\n",
       "           'seeming',\n",
       "           'seems',\n",
       "           'serious',\n",
       "           'several',\n",
       "           'she',\n",
       "           'should',\n",
       "           'show',\n",
       "           'side',\n",
       "           'since',\n",
       "           'sincere',\n",
       "           'six',\n",
       "           'sixty',\n",
       "           'so',\n",
       "           'some',\n",
       "           'somehow',\n",
       "           'someone',\n",
       "           'something',\n",
       "           'sometime',\n",
       "           'sometimes',\n",
       "           'somewhere',\n",
       "           'still',\n",
       "           'such',\n",
       "           'system',\n",
       "           'take',\n",
       "           'ten',\n",
       "           'than',\n",
       "           'that',\n",
       "           'the',\n",
       "           'their',\n",
       "           'them',\n",
       "           'themselves',\n",
       "           'then',\n",
       "           'thence',\n",
       "           'there',\n",
       "           'thereafter',\n",
       "           'thereby',\n",
       "           'therefore',\n",
       "           'therein',\n",
       "           'thereupon',\n",
       "           'these',\n",
       "           'they',\n",
       "           'thick',\n",
       "           'thin',\n",
       "           'third',\n",
       "           'this',\n",
       "           'those',\n",
       "           'though',\n",
       "           'three',\n",
       "           'through',\n",
       "           'throughout',\n",
       "           'thru',\n",
       "           'thus',\n",
       "           'to',\n",
       "           'together',\n",
       "           'too',\n",
       "           'top',\n",
       "           'toward',\n",
       "           'towards',\n",
       "           'twelve',\n",
       "           'twenty',\n",
       "           'two',\n",
       "           'un',\n",
       "           'under',\n",
       "           'until',\n",
       "           'up',\n",
       "           'upon',\n",
       "           'us',\n",
       "           'very',\n",
       "           'via',\n",
       "           'was',\n",
       "           'we',\n",
       "           'well',\n",
       "           'were',\n",
       "           'what',\n",
       "           'whatever',\n",
       "           'when',\n",
       "           'whence',\n",
       "           'whenever',\n",
       "           'where',\n",
       "           'whereafter',\n",
       "           'whereas',\n",
       "           'whereby',\n",
       "           'wherein',\n",
       "           'whereupon',\n",
       "           'wherever',\n",
       "           'whether',\n",
       "           'which',\n",
       "           'while',\n",
       "           'whither',\n",
       "           'who',\n",
       "           'whoever',\n",
       "           'whole',\n",
       "           'whom',\n",
       "           'whose',\n",
       "           'why',\n",
       "           'will',\n",
       "           'with',\n",
       "           'within',\n",
       "           'without',\n",
       "           'would',\n",
       "           'yet',\n",
       "           'you',\n",
       "           'your',\n",
       "           'yours',\n",
       "           'yourself',\n",
       "           'yourselves'})"
      ]
     },
     "execution_count": 239,
     "metadata": {},
     "output_type": "execute_result"
    }
   ],
   "source": [
    "from sklearn.feature_extraction.text import ENGLISH_STOP_WORDS\n",
    "ENGLISH_STOP_WORDS"
   ]
  },
  {
   "cell_type": "code",
   "execution_count": 241,
   "id": "57f24624",
   "metadata": {},
   "outputs": [
    {
     "data": {
      "text/plain": [
       "False"
      ]
     },
     "execution_count": 241,
     "metadata": {},
     "output_type": "execute_result"
    }
   ],
   "source": [
    "df['Synopsis'].isnull().values.any()"
   ]
  },
  {
   "cell_type": "code",
   "execution_count": 243,
   "id": "09b708fa",
   "metadata": {},
   "outputs": [
    {
     "data": {
      "text/plain": [
       "(250, 3833)"
      ]
     },
     "execution_count": 243,
     "metadata": {},
     "output_type": "execute_result"
    }
   ],
   "source": [
    "tfidf_matrix = tfidf.fit_transform(df['Synopsis'])\n",
    "tfidf_matrix.shape"
   ]
  },
  {
   "cell_type": "code",
   "execution_count": 245,
   "id": "a13f4b2d",
   "metadata": {},
   "outputs": [
    {
     "data": {
      "text/plain": [
       "<250x3833 sparse matrix of type '<class 'numpy.float64'>'\n",
       "\twith 10688 stored elements in Compressed Sparse Row format>"
      ]
     },
     "execution_count": 245,
     "metadata": {},
     "output_type": "execute_result"
    }
   ],
   "source": [
    "tfidf_matrix"
   ]
  },
  {
   "cell_type": "code",
   "execution_count": 247,
   "id": "47dca84f",
   "metadata": {},
   "outputs": [
    {
     "data": {
      "text/plain": [
       "array([[1.        , 0.01439857, 0.00584874, ..., 0.01784128, 0.        ,\n",
       "        0.01110787],\n",
       "       [0.01439857, 1.        , 0.01954729, ..., 0.02188562, 0.05738351,\n",
       "        0.02420901],\n",
       "       [0.00584874, 0.01954729, 1.        , ..., 0.03422956, 0.0149321 ,\n",
       "        0.00668604],\n",
       "       ...,\n",
       "       [0.01784128, 0.02188562, 0.03422956, ..., 1.        , 0.        ,\n",
       "        0.0177743 ],\n",
       "       [0.        , 0.05738351, 0.0149321 , ..., 0.        , 1.        ,\n",
       "        0.        ],\n",
       "       [0.01110787, 0.02420901, 0.00668604, ..., 0.0177743 , 0.        ,\n",
       "        1.        ]])"
      ]
     },
     "execution_count": 247,
     "metadata": {},
     "output_type": "execute_result"
    }
   ],
   "source": [
    "from sklearn.metrics.pairwise import linear_kernel\n",
    "\n",
    "cosine_sim = linear_kernel(tfidf_matrix, tfidf_matrix)   #coef_ 와 비슷한것\n",
    "cosine_sim"
   ]
  },
  {
   "cell_type": "code",
   "execution_count": 249,
   "id": "2ede70e5",
   "metadata": {},
   "outputs": [
    {
     "data": {
      "text/plain": [
       "(250, 250)"
      ]
     },
     "execution_count": 249,
     "metadata": {},
     "output_type": "execute_result"
    }
   ],
   "source": [
    "cosine_sim.shape"
   ]
  },
  {
   "cell_type": "code",
   "execution_count": 251,
   "id": "f120d98f",
   "metadata": {},
   "outputs": [
    {
     "data": {
      "text/plain": [
       "Name\n",
       "Move to Heaven              0\n",
       "Flower of Evil              1\n",
       "Hospital Playlist           2\n",
       "Hospital Playlist 2         3\n",
       "My Mister                   4\n",
       "                         ... \n",
       "Live Up to Your Name      245\n",
       "Queen for Seven Days      246\n",
       "Memory                    247\n",
       "A Korean Odyssey          248\n",
       "Voice 4: Judgment Hour    249\n",
       "Length: 250, dtype: int64"
      ]
     },
     "execution_count": 251,
     "metadata": {},
     "output_type": "execute_result"
    }
   ],
   "source": [
    "indices = pd.Series(df.index, index=df['Name']).drop_duplicates()  #드라마 제목이 인덱스가 되고, 인덱스가 값으로~\n",
    "indices"
   ]
  },
  {
   "cell_type": "code",
   "execution_count": 253,
   "id": "ed359923",
   "metadata": {},
   "outputs": [
    {
     "data": {
      "text/plain": [
       "2"
      ]
     },
     "execution_count": 253,
     "metadata": {},
     "output_type": "execute_result"
    }
   ],
   "source": [
    "indices['Hospital Playlist']  #슬기로운 의사생활 인덱스 : 2"
   ]
  },
  {
   "cell_type": "code",
   "execution_count": 255,
   "id": "100ff697",
   "metadata": {},
   "outputs": [
    {
     "data": {
      "text/html": [
       "<div>\n",
       "<style scoped>\n",
       "    .dataframe tbody tr th:only-of-type {\n",
       "        vertical-align: middle;\n",
       "    }\n",
       "\n",
       "    .dataframe tbody tr th {\n",
       "        vertical-align: top;\n",
       "    }\n",
       "\n",
       "    .dataframe thead th {\n",
       "        text-align: right;\n",
       "    }\n",
       "</style>\n",
       "<table border=\"1\" class=\"dataframe\">\n",
       "  <thead>\n",
       "    <tr style=\"text-align: right;\">\n",
       "      <th></th>\n",
       "      <th>Name</th>\n",
       "      <th>Aired Date</th>\n",
       "      <th>Year of release</th>\n",
       "      <th>Original Network</th>\n",
       "      <th>Aired On</th>\n",
       "      <th>Number of Episodes</th>\n",
       "      <th>Duration</th>\n",
       "      <th>Content Rating</th>\n",
       "      <th>Rating</th>\n",
       "      <th>Synopsis</th>\n",
       "      <th>Genre</th>\n",
       "      <th>Tags</th>\n",
       "      <th>Director</th>\n",
       "      <th>Screenwriter</th>\n",
       "      <th>Cast</th>\n",
       "      <th>Production companies</th>\n",
       "      <th>Rank</th>\n",
       "    </tr>\n",
       "  </thead>\n",
       "  <tbody>\n",
       "    <tr>\n",
       "      <th>2</th>\n",
       "      <td>Hospital Playlist</td>\n",
       "      <td>Mar 12, 2020 - May 28, 2020</td>\n",
       "      <td>2020</td>\n",
       "      <td>Netflix,  tvN</td>\n",
       "      <td>Thursday</td>\n",
       "      <td>12</td>\n",
       "      <td>1 hr. 30 min.</td>\n",
       "      <td>15+ - Teens 15 or older</td>\n",
       "      <td>9.1</td>\n",
       "      <td>The stories of people going through their days...</td>\n",
       "      <td>Friendship,  Romance,  Life,  Medical</td>\n",
       "      <td>Strong Friendship, Multiple Mains, Best Friend...</td>\n",
       "      <td>Shin Won Ho</td>\n",
       "      <td>Lee Woo Jung</td>\n",
       "      <td>Jo Jung Suk, Yoo Yeon Seok, Jung Kyung Ho, Kim...</td>\n",
       "      <td>Egg Is Coming, CJ ENM</td>\n",
       "      <td>#3</td>\n",
       "    </tr>\n",
       "  </tbody>\n",
       "</table>\n",
       "</div>"
      ],
      "text/plain": [
       "                Name                   Aired Date  Year of release  \\\n",
       "2  Hospital Playlist  Mar 12, 2020 - May 28, 2020             2020   \n",
       "\n",
       "  Original Network  Aired On  Number of Episodes       Duration  \\\n",
       "2   Netflix,  tvN   Thursday                  12  1 hr. 30 min.   \n",
       "\n",
       "            Content Rating  Rating  \\\n",
       "2  15+ - Teens 15 or older     9.1   \n",
       "\n",
       "                                            Synopsis  \\\n",
       "2  The stories of people going through their days...   \n",
       "\n",
       "                                    Genre  \\\n",
       "2  Friendship,  Romance,  Life,  Medical    \n",
       "\n",
       "                                                Tags     Director  \\\n",
       "2  Strong Friendship, Multiple Mains, Best Friend...  Shin Won Ho   \n",
       "\n",
       "   Screenwriter                                               Cast  \\\n",
       "2  Lee Woo Jung  Jo Jung Suk, Yoo Yeon Seok, Jung Kyung Ho, Kim...   \n",
       "\n",
       "    Production companies Rank  \n",
       "2  Egg Is Coming, CJ ENM   #3  "
      ]
     },
     "execution_count": 255,
     "metadata": {},
     "output_type": "execute_result"
    }
   ],
   "source": [
    "df.iloc[[2]]"
   ]
  },
  {
   "cell_type": "code",
   "execution_count": 257,
   "id": "09bbede4",
   "metadata": {},
   "outputs": [],
   "source": [
    "# 영화의 제목을 입력받으면 코사인 유사도를 통해서 가장 유사도가 높은 상위 10개의 영화 목록 반환\n",
    "def get_recommendations(Name, cosine_sim=cosine_sim):\n",
    "    # 영화 제목을 통해서 전체 데이터 기준 그 영화의 index 값을 얻기\n",
    "    idx = indices[Name]\n",
    "    \n",
    "    # 코사인 유사도 매트릭스 (cosine_sim) 에서 idx 에 해당하는 데이터를 (idx, 유사도) 형태로 얻기\n",
    "    sim_scores = list(enumerate(cosine_sim[idx]))\n",
    "    \n",
    "    # 코사인 유사도 기준으로 내림차순 정렬\n",
    "    sim_scores = sorted(sim_scores, key=lambda x: x[1], reverse=True)\n",
    "    \n",
    "    # 자기 자신을 제외한 10개의 추천 영화를 슬라이싱\n",
    "    sim_scores = sim_scores[1:11]\n",
    "    \n",
    "    # 추천 영화 목록 10개의 인덱스 정보 추출\n",
    "    movie_indices = [i[0] for i in sim_scores]\n",
    "    \n",
    "    # 인덱스 정보를 통해 영화 제목 추출\n",
    "    return df['Name'].iloc[movie_indices]"
   ]
  },
  {
   "cell_type": "code",
   "execution_count": 259,
   "id": "aab2396e",
   "metadata": {},
   "outputs": [
    {
     "data": {
      "text/plain": [
       "2"
      ]
     },
     "execution_count": 259,
     "metadata": {},
     "output_type": "execute_result"
    }
   ],
   "source": [
    "test_idx = indices['Hospital Playlist'] # 영화 제목을 통해서 전체 데이터 기준 그 영화의 index 값을 얻기\n",
    "test_idx"
   ]
  },
  {
   "cell_type": "code",
   "execution_count": 261,
   "id": "263d93cc",
   "metadata": {},
   "outputs": [
    {
     "data": {
      "text/plain": [
       "array([0.00584874, 0.01954729, 1.        , 0.15770422, 0.01329204,\n",
       "       0.06487571, 0.05041866, 0.03407563, 0.01372045, 0.01386023,\n",
       "       0.        , 0.01884955, 0.        , 0.01091824, 0.01923586,\n",
       "       0.        , 0.12304633, 0.04230823, 0.01042983, 0.02096698,\n",
       "       0.02917118, 0.01715063, 0.06170291, 0.02519926, 0.0611385 ,\n",
       "       0.00573475, 0.03799448, 0.01596845, 0.01083303, 0.        ,\n",
       "       0.07148484, 0.        , 0.01677094, 0.01624146, 0.01990823,\n",
       "       0.05326478, 0.        , 0.        , 0.04625158, 0.        ,\n",
       "       0.        , 0.06085255, 0.04869393, 0.05530943, 0.04690052,\n",
       "       0.00956312, 0.        , 0.0301692 , 0.        , 0.01115004,\n",
       "       0.03862246, 0.14132172, 0.01008948, 0.04147842, 0.02547147,\n",
       "       0.01014662, 0.02888709, 0.02219711, 0.        , 0.        ,\n",
       "       0.        , 0.        , 0.02137849, 0.        , 0.03630889,\n",
       "       0.07688242, 0.02147283, 0.02308412, 0.        , 0.0326842 ,\n",
       "       0.01936405, 0.01756433, 0.01966047, 0.        , 0.03350539,\n",
       "       0.1237263 , 0.00870214, 0.00574296, 0.0876838 , 0.        ,\n",
       "       0.10150321, 0.03508663, 0.0471164 , 0.00684808, 0.        ,\n",
       "       0.        , 0.01470421, 0.        , 0.02521831, 0.        ,\n",
       "       0.02837506, 0.02123378, 0.        , 0.01375126, 0.01329945,\n",
       "       0.02530054, 0.02129859, 0.03462043, 0.03723109, 0.02530287,\n",
       "       0.04174154, 0.01996329, 0.        , 0.01721682, 0.02322924,\n",
       "       0.04701592, 0.03430507, 0.03698322, 0.01750041, 0.04151523,\n",
       "       0.05121813, 0.08417933, 0.0523092 , 0.        , 0.        ,\n",
       "       0.020381  , 0.        , 0.04701098, 0.07706269, 0.03722095,\n",
       "       0.01563623, 0.01160818, 0.02850017, 0.02877898, 0.01249775,\n",
       "       0.03996494, 0.01601774, 0.        , 0.00507049, 0.02449896,\n",
       "       0.        , 0.02531523, 0.02180232, 0.0081427 , 0.03882302,\n",
       "       0.01991247, 0.02875636, 0.02125474, 0.09479065, 0.0195679 ,\n",
       "       0.04337313, 0.05600716, 0.01179758, 0.01714136, 0.0157509 ,\n",
       "       0.04153846, 0.        , 0.04020042, 0.03682724, 0.00865039,\n",
       "       0.00940831, 0.007948  , 0.01998136, 0.01299678, 0.01915413,\n",
       "       0.05619945, 0.03881457, 0.03599784, 0.07115926, 0.15085471,\n",
       "       0.00610854, 0.05745499, 0.01222119, 0.01142123, 0.03178707,\n",
       "       0.        , 0.        , 0.0180848 , 0.01276975, 0.04057054,\n",
       "       0.01565251, 0.        , 0.        , 0.03553098, 0.02071441,\n",
       "       0.0231653 , 0.01299937, 0.00673407, 0.05685147, 0.00586371,\n",
       "       0.01347564, 0.02395714, 0.01932321, 0.0353368 , 0.        ,\n",
       "       0.02434567, 0.00682387, 0.03912552, 0.00810569, 0.02961062,\n",
       "       0.02738658, 0.07689201, 0.02404192, 0.01271655, 0.02810316,\n",
       "       0.01814519, 0.02327961, 0.        , 0.03220346, 0.02473504,\n",
       "       0.01424001, 0.        , 0.        , 0.01834336, 0.01838864,\n",
       "       0.01171012, 0.        , 0.04524387, 0.01630108, 0.        ,\n",
       "       0.01679295, 0.0370224 , 0.0220612 , 0.03430485, 0.04448285,\n",
       "       0.00418386, 0.        , 0.        , 0.04028574, 0.04600418,\n",
       "       0.00587556, 0.00877585, 0.0701801 , 0.03341139, 0.06334885,\n",
       "       0.01161096, 0.01915691, 0.01564631, 0.06142534, 0.01276927,\n",
       "       0.        , 0.01370085, 0.06752572, 0.06142423, 0.05846769,\n",
       "       0.0454995 , 0.        , 0.03108434, 0.01518958, 0.03053309,\n",
       "       0.00464622, 0.        , 0.04961778, 0.11138392, 0.09689767,\n",
       "       0.06547351, 0.        , 0.03422956, 0.0149321 , 0.00668604])"
      ]
     },
     "execution_count": 261,
     "metadata": {},
     "output_type": "execute_result"
    }
   ],
   "source": [
    "cosine_sim[2]"
   ]
  },
  {
   "cell_type": "code",
   "execution_count": 263,
   "id": "72c6a210",
   "metadata": {},
   "outputs": [],
   "source": [
    "test_sim_scores = list(enumerate(cosine_sim[2])) # 코사인 유사도 매트릭스 (cosine_sim) 에서 idx 에 해당하는 데이터를 (idx, 유사도) 형태로 얻기"
   ]
  },
  {
   "cell_type": "code",
   "execution_count": 265,
   "id": "eaa89033-8062-4d97-abef-2b3355a48d2c",
   "metadata": {},
   "outputs": [
    {
     "data": {
      "text/plain": [
       "[(0, 0.0058487420151996095),\n",
       " (1, 0.01954728788095359),\n",
       " (2, 1.0),\n",
       " (3, 0.15770422051677274),\n",
       " (4, 0.013292037359451874),\n",
       " (5, 0.06487571389439388),\n",
       " (6, 0.05041866072139529),\n",
       " (7, 0.03407562785808776),\n",
       " (8, 0.01372045467699947),\n",
       " (9, 0.013860234805344769),\n",
       " (10, 0.0),\n",
       " (11, 0.018849546811199474),\n",
       " (12, 0.0),\n",
       " (13, 0.010918243500587503),\n",
       " (14, 0.01923585957716637),\n",
       " (15, 0.0),\n",
       " (16, 0.12304633114971063),\n",
       " (17, 0.042308230783446685),\n",
       " (18, 0.010429825917601785),\n",
       " (19, 0.02096698493171314),\n",
       " (20, 0.029171179579347728),\n",
       " (21, 0.017150633880202815),\n",
       " (22, 0.06170290700535906),\n",
       " (23, 0.025199263972567734),\n",
       " (24, 0.061138496725746685),\n",
       " (25, 0.00573475279556016),\n",
       " (26, 0.0379944826483379),\n",
       " (27, 0.015968447590265313),\n",
       " (28, 0.01083303487526314),\n",
       " (29, 0.0),\n",
       " (30, 0.07148484391732846),\n",
       " (31, 0.0),\n",
       " (32, 0.01677094472654577),\n",
       " (33, 0.01624145591751798),\n",
       " (34, 0.01990822829899712),\n",
       " (35, 0.053264780977744654),\n",
       " (36, 0.0),\n",
       " (37, 0.0),\n",
       " (38, 0.04625158150318521),\n",
       " (39, 0.0),\n",
       " (40, 0.0),\n",
       " (41, 0.06085255395440456),\n",
       " (42, 0.04869392568659095),\n",
       " (43, 0.05530942653252494),\n",
       " (44, 0.04690052117082398),\n",
       " (45, 0.009563123421422898),\n",
       " (46, 0.0),\n",
       " (47, 0.0301692025348986),\n",
       " (48, 0.0),\n",
       " (49, 0.011150041251203847),\n",
       " (50, 0.03862245593794093),\n",
       " (51, 0.1413217230867055),\n",
       " (52, 0.01008948359432783),\n",
       " (53, 0.041478415020670095),\n",
       " (54, 0.025471473429667116),\n",
       " (55, 0.010146624630893745),\n",
       " (56, 0.02888709319060212),\n",
       " (57, 0.022197114983034713),\n",
       " (58, 0.0),\n",
       " (59, 0.0),\n",
       " (60, 0.0),\n",
       " (61, 0.0),\n",
       " (62, 0.02137848592643887),\n",
       " (63, 0.0),\n",
       " (64, 0.03630888762943282),\n",
       " (65, 0.07688241760249069),\n",
       " (66, 0.021472834325089372),\n",
       " (67, 0.023084123439856455),\n",
       " (68, 0.0),\n",
       " (69, 0.03268420407226908),\n",
       " (70, 0.01936404846513016),\n",
       " (71, 0.017564332382576032),\n",
       " (72, 0.019660467858088858),\n",
       " (73, 0.0),\n",
       " (74, 0.033505388318083563),\n",
       " (75, 0.12372629679327721),\n",
       " (76, 0.00870213602263961),\n",
       " (77, 0.005742957458677228),\n",
       " (78, 0.08768379958390438),\n",
       " (79, 0.0),\n",
       " (80, 0.10150321464669493),\n",
       " (81, 0.035086630730755325),\n",
       " (82, 0.047116403009474235),\n",
       " (83, 0.006848075366186542),\n",
       " (84, 0.0),\n",
       " (85, 0.0),\n",
       " (86, 0.014704214875682436),\n",
       " (87, 0.0),\n",
       " (88, 0.02521830546773949),\n",
       " (89, 0.0),\n",
       " (90, 0.02837506274854737),\n",
       " (91, 0.02123377892921332),\n",
       " (92, 0.0),\n",
       " (93, 0.013751255267519987),\n",
       " (94, 0.013299448545253148),\n",
       " (95, 0.025300539005207796),\n",
       " (96, 0.021298593660872885),\n",
       " (97, 0.034620426904945725),\n",
       " (98, 0.037231089101378255),\n",
       " (99, 0.025302874155487202),\n",
       " (100, 0.04174153511079162),\n",
       " (101, 0.019963290464785875),\n",
       " (102, 0.0),\n",
       " (103, 0.017216821548650448),\n",
       " (104, 0.023229243519424757),\n",
       " (105, 0.04701592482175668),\n",
       " (106, 0.03430506866407363),\n",
       " (107, 0.036983224195313955),\n",
       " (108, 0.017500414120470195),\n",
       " (109, 0.04151522932968369),\n",
       " (110, 0.05121812724895318),\n",
       " (111, 0.08417933076487435),\n",
       " (112, 0.05230920322444221),\n",
       " (113, 0.0),\n",
       " (114, 0.0),\n",
       " (115, 0.020381003273929343),\n",
       " (116, 0.0),\n",
       " (117, 0.047010981237757356),\n",
       " (118, 0.07706269483393656),\n",
       " (119, 0.037220954647120205),\n",
       " (120, 0.015636233957312007),\n",
       " (121, 0.011608183843837435),\n",
       " (122, 0.02850016604711609),\n",
       " (123, 0.028778983504576548),\n",
       " (124, 0.012497750177824703),\n",
       " (125, 0.03996493684644222),\n",
       " (126, 0.016017743273554916),\n",
       " (127, 0.0),\n",
       " (128, 0.005070487714404714),\n",
       " (129, 0.024498958152625212),\n",
       " (130, 0.0),\n",
       " (131, 0.025315229750423066),\n",
       " (132, 0.021802317310892393),\n",
       " (133, 0.008142700255275742),\n",
       " (134, 0.03882302065665686),\n",
       " (135, 0.019912471519307133),\n",
       " (136, 0.028756355907280706),\n",
       " (137, 0.021254736482556574),\n",
       " (138, 0.09479064731541373),\n",
       " (139, 0.019567904156355398),\n",
       " (140, 0.043373130964577775),\n",
       " (141, 0.05600715626631258),\n",
       " (142, 0.011797577125264223),\n",
       " (143, 0.01714136332579171),\n",
       " (144, 0.01575090290487513),\n",
       " (145, 0.04153845966216977),\n",
       " (146, 0.0),\n",
       " (147, 0.04020041561080089),\n",
       " (148, 0.036827238039758466),\n",
       " (149, 0.008650393004181441),\n",
       " (150, 0.00940830790862892),\n",
       " (151, 0.007948001212429279),\n",
       " (152, 0.019981356643229618),\n",
       " (153, 0.012996784191507987),\n",
       " (154, 0.01915412868695051),\n",
       " (155, 0.05619944940508928),\n",
       " (156, 0.038814573756948405),\n",
       " (157, 0.035997843792425196),\n",
       " (158, 0.07115926146377625),\n",
       " (159, 0.1508547096623846),\n",
       " (160, 0.006108538648031286),\n",
       " (161, 0.05745498611061175),\n",
       " (162, 0.012221193891324473),\n",
       " (163, 0.011421227288334706),\n",
       " (164, 0.03178707249093708),\n",
       " (165, 0.0),\n",
       " (166, 0.0),\n",
       " (167, 0.018084802564029882),\n",
       " (168, 0.012769750806681933),\n",
       " (169, 0.04057054492108259),\n",
       " (170, 0.01565250808402838),\n",
       " (171, 0.0),\n",
       " (172, 0.0),\n",
       " (173, 0.03553098480771235),\n",
       " (174, 0.020714406100297424),\n",
       " (175, 0.023165296278931286),\n",
       " (176, 0.012999368160262861),\n",
       " (177, 0.006734072871101669),\n",
       " (178, 0.056851466333815354),\n",
       " (179, 0.005863705561690161),\n",
       " (180, 0.01347564065048858),\n",
       " (181, 0.02395714059801909),\n",
       " (182, 0.01932321276053674),\n",
       " (183, 0.035336804048049),\n",
       " (184, 0.0),\n",
       " (185, 0.02434567455103301),\n",
       " (186, 0.006823869234183248),\n",
       " (187, 0.03912551651269293),\n",
       " (188, 0.008105694580063764),\n",
       " (189, 0.02961062241460095),\n",
       " (190, 0.02738657971622276),\n",
       " (191, 0.0768920081132297),\n",
       " (192, 0.024041924062068662),\n",
       " (193, 0.012716546857440886),\n",
       " (194, 0.0281031572986749),\n",
       " (195, 0.018145190850475106),\n",
       " (196, 0.023279611956986638),\n",
       " (197, 0.0),\n",
       " (198, 0.032203462089220036),\n",
       " (199, 0.02473503676441946),\n",
       " (200, 0.014240012932420693),\n",
       " (201, 0.0),\n",
       " (202, 0.0),\n",
       " (203, 0.01834335577447038),\n",
       " (204, 0.01838864345185902),\n",
       " (205, 0.011710122458124497),\n",
       " (206, 0.0),\n",
       " (207, 0.0452438672877862),\n",
       " (208, 0.016301080574702833),\n",
       " (209, 0.0),\n",
       " (210, 0.016792946024067133),\n",
       " (211, 0.037022402037653335),\n",
       " (212, 0.022061200570577533),\n",
       " (213, 0.03430485449181646),\n",
       " (214, 0.04448284616453942),\n",
       " (215, 0.004183859621546388),\n",
       " (216, 0.0),\n",
       " (217, 0.0),\n",
       " (218, 0.040285738801105954),\n",
       " (219, 0.04600418182437274),\n",
       " (220, 0.0058755584109148285),\n",
       " (221, 0.008775848116845132),\n",
       " (222, 0.0701801031107395),\n",
       " (223, 0.03341138618878971),\n",
       " (224, 0.063348846085738),\n",
       " (225, 0.011610958647194714),\n",
       " (226, 0.01915690799697647),\n",
       " (227, 0.01564631485859957),\n",
       " (228, 0.061425342938299286),\n",
       " (229, 0.012769273504669179),\n",
       " (230, 0.0),\n",
       " (231, 0.013700853289629396),\n",
       " (232, 0.06752572463627797),\n",
       " (233, 0.06142422503144365),\n",
       " (234, 0.058467690409801064),\n",
       " (235, 0.04549950390405893),\n",
       " (236, 0.0),\n",
       " (237, 0.03108434097339014),\n",
       " (238, 0.015189584245104606),\n",
       " (239, 0.03053309145383671),\n",
       " (240, 0.0046462249944160235),\n",
       " (241, 0.0),\n",
       " (242, 0.049617782851848244),\n",
       " (243, 0.11138391510955678),\n",
       " (244, 0.09689766518536114),\n",
       " (245, 0.06547351147818257),\n",
       " (246, 0.0),\n",
       " (247, 0.034229555285397444),\n",
       " (248, 0.014932103891090927),\n",
       " (249, 0.006686042935236293)]"
      ]
     },
     "execution_count": 265,
     "metadata": {},
     "output_type": "execute_result"
    }
   ],
   "source": [
    "test_sim_scores"
   ]
  },
  {
   "cell_type": "code",
   "execution_count": 269,
   "id": "ec39cdf5",
   "metadata": {},
   "outputs": [
    {
     "data": {
      "text/plain": [
       "[(3, 0.15770422051677274),\n",
       " (159, 0.1508547096623846),\n",
       " (51, 0.1413217230867055),\n",
       " (75, 0.12372629679327721),\n",
       " (16, 0.12304633114971063),\n",
       " (243, 0.11138391510955678),\n",
       " (80, 0.10150321464669493),\n",
       " (244, 0.09689766518536114),\n",
       " (138, 0.09479064731541373),\n",
       " (78, 0.08768379958390438)]"
      ]
     },
     "execution_count": 269,
     "metadata": {},
     "output_type": "execute_result"
    }
   ],
   "source": [
    "test_sim_scores = sorted(test_sim_scores, key=lambda x: x[1], reverse=True) # 코사인 유사도 기준으로 내림차순 정렬\n",
    "test_sim_scores[1:11] # 자기 자신을 제외한 5개의 추천 영화를 슬라이싱"
   ]
  },
  {
   "cell_type": "code",
   "execution_count": 56,
   "id": "3936bc4a",
   "metadata": {},
   "outputs": [],
   "source": [
    "# # 함수 설명\n",
    "# def get_second(x):\n",
    "#     return x[1]\n",
    "\n",
    "# lst = ['인덱스', '유사도']\n",
    "# print(get_second(lst))   결과 : 유사도"
   ]
  },
  {
   "cell_type": "code",
   "execution_count": 58,
   "id": "015ca43d",
   "metadata": {},
   "outputs": [],
   "source": [
    "# (lambda x: x[1])(lst) 결과 : 유사도"
   ]
  },
  {
   "cell_type": "code",
   "execution_count": 271,
   "id": "5ab0cd66",
   "metadata": {},
   "outputs": [
    {
     "data": {
      "text/plain": [
       "[3, 159, 51, 75, 16, 243, 80, 244, 138, 78]"
      ]
     },
     "execution_count": 271,
     "metadata": {},
     "output_type": "execute_result"
    }
   ],
   "source": [
    "# 추천 영화 목록 10개의 인덱스 정보 추출\n",
    "test_drama_indices = [i[0] for i in test_sim_scores[1:11]]\n",
    "test_drama_indices"
   ]
  },
  {
   "cell_type": "code",
   "execution_count": 273,
   "id": "374ecc27",
   "metadata": {},
   "outputs": [
    {
     "data": {
      "text/plain": [
       "3      Hospital Playlist 2\n",
       "159        Doctor Prisoner\n",
       "51          Dr. Romantic 2\n",
       "75            Ghost Doctor\n",
       "16                  Signal\n",
       "243     God's Quiz: Reboot\n",
       "80        The King of Pigs\n",
       "244         Missing Noir M\n",
       "138                   Lost\n",
       "78      Children of Nobody\n",
       "Name: Name, dtype: object"
      ]
     },
     "execution_count": 273,
     "metadata": {},
     "output_type": "execute_result"
    }
   ],
   "source": [
    "# 인덱스 정보를 통해 영화 제목 추출\n",
    "df['Name'].iloc[test_drama_indices]"
   ]
  },
  {
   "cell_type": "code",
   "execution_count": 275,
   "id": "1ba03872",
   "metadata": {},
   "outputs": [
    {
     "data": {
      "text/plain": [
       "0                 Move to Heaven\n",
       "1                 Flower of Evil\n",
       "2              Hospital Playlist\n",
       "3            Hospital Playlist 2\n",
       "4                      My Mister\n",
       "5                     Reply 1988\n",
       "6              Weak Hero Class 1\n",
       "7                Prison Playbook\n",
       "8               Alchemy of Souls\n",
       "9     Extraordinary Attorney Woo\n",
       "10                     Mr. Queen\n",
       "11                        Mother\n",
       "12      It's Okay to Not Be Okay\n",
       "13          Crash Landing on You\n",
       "14                      Vincenzo\n",
       "15                     Navillera\n",
       "16                        Signal\n",
       "17                  Mr. Sunshine\n",
       "18                     Happiness\n",
       "19             Kingdom: Season 2\n",
       "Name: Name, dtype: object"
      ]
     },
     "execution_count": 275,
     "metadata": {},
     "output_type": "execute_result"
    }
   ],
   "source": [
    "df['Name'][:20]"
   ]
  },
  {
   "cell_type": "code",
   "execution_count": 277,
   "id": "84058c9b",
   "metadata": {},
   "outputs": [
    {
     "data": {
      "text/plain": [
       "217            Touch Your Heart\n",
       "204                  Ugly Alert\n",
       "221                        Mine\n",
       "162            Her Private Life\n",
       "226                 Five Enough\n",
       "84         My Father is Strange\n",
       "16                       Signal\n",
       "80             The King of Pigs\n",
       "211                      Run On\n",
       "134    The World of the Married\n",
       "Name: Name, dtype: object"
      ]
     },
     "execution_count": 277,
     "metadata": {},
     "output_type": "execute_result"
    }
   ],
   "source": [
    "get_recommendations('A Korean Odyssey')   #위에 함수 실행"
   ]
  },
  {
   "cell_type": "code",
   "execution_count": 279,
   "id": "89d69838",
   "metadata": {},
   "outputs": [
    {
     "data": {
      "text/plain": [
       "45             The Penthouse 2\n",
       "221                       Mine\n",
       "64                Dr. Romantic\n",
       "248           A Korean Odyssey\n",
       "189         The Sound of Magic\n",
       "169    My Country: The New Age\n",
       "74                Little Women\n",
       "55            Kill Me, Heal Me\n",
       "173            Come and Hug Me\n",
       "157          Extraordinary You\n",
       "Name: Name, dtype: object"
      ]
     },
     "execution_count": 279,
     "metadata": {},
     "output_type": "execute_result"
    }
   ],
   "source": [
    "get_recommendations('Touch Your Heart')"
   ]
  },
  {
   "cell_type": "markdown",
   "id": "be2d2906",
   "metadata": {},
   "source": [
    "### 다양한 요소 기반 추천 (장르, 감독, 키워드 등)"
   ]
  },
  {
   "cell_type": "code",
   "execution_count": 281,
   "id": "b2bfa82a",
   "metadata": {},
   "outputs": [
    {
     "data": {
      "text/html": [
       "<div>\n",
       "<style scoped>\n",
       "    .dataframe tbody tr th:only-of-type {\n",
       "        vertical-align: middle;\n",
       "    }\n",
       "\n",
       "    .dataframe tbody tr th {\n",
       "        vertical-align: top;\n",
       "    }\n",
       "\n",
       "    .dataframe thead th {\n",
       "        text-align: right;\n",
       "    }\n",
       "</style>\n",
       "<table border=\"1\" class=\"dataframe\">\n",
       "  <thead>\n",
       "    <tr style=\"text-align: right;\">\n",
       "      <th></th>\n",
       "      <th>Name</th>\n",
       "      <th>Aired Date</th>\n",
       "      <th>Year of release</th>\n",
       "      <th>Original Network</th>\n",
       "      <th>Aired On</th>\n",
       "      <th>Number of Episodes</th>\n",
       "      <th>Duration</th>\n",
       "      <th>Content Rating</th>\n",
       "      <th>Rating</th>\n",
       "      <th>Synopsis</th>\n",
       "      <th>Genre</th>\n",
       "      <th>Tags</th>\n",
       "      <th>Director</th>\n",
       "      <th>Screenwriter</th>\n",
       "      <th>Cast</th>\n",
       "      <th>Production companies</th>\n",
       "      <th>Rank</th>\n",
       "    </tr>\n",
       "  </thead>\n",
       "  <tbody>\n",
       "    <tr>\n",
       "      <th>0</th>\n",
       "      <td>Move to Heaven</td>\n",
       "      <td>May 14, 2021</td>\n",
       "      <td>2021</td>\n",
       "      <td>Netflix</td>\n",
       "      <td>Friday</td>\n",
       "      <td>10</td>\n",
       "      <td>52 min.</td>\n",
       "      <td>18+ Restricted (violence &amp; profanity)</td>\n",
       "      <td>9.2</td>\n",
       "      <td>Geu Roo is a young autistic man. He works for ...</td>\n",
       "      <td>Life,  Drama,  Family</td>\n",
       "      <td>Autism, Uncle-Nephew Relationship, Death, Sava...</td>\n",
       "      <td>Kim Sung Ho</td>\n",
       "      <td>Yoon Ji Ryun</td>\n",
       "      <td>Lee Je Hoon, Tang Jun Sang, Hong Seung Hee, Ju...</td>\n",
       "      <td>Page One Film, Number Three Pictures</td>\n",
       "      <td>#1</td>\n",
       "    </tr>\n",
       "    <tr>\n",
       "      <th>1</th>\n",
       "      <td>Flower of Evil</td>\n",
       "      <td>Jul 29, 2020 - Sep 23, 2020</td>\n",
       "      <td>2020</td>\n",
       "      <td>tvN</td>\n",
       "      <td>Wednesday, Thursday</td>\n",
       "      <td>16</td>\n",
       "      <td>1 hr. 10 min.</td>\n",
       "      <td>15+ - Teens 15 or older</td>\n",
       "      <td>9.1</td>\n",
       "      <td>Although Baek Hee Sung is hiding a dark secret...</td>\n",
       "      <td>Thriller,  Romance,  Crime,  Melodrama</td>\n",
       "      <td>Married Couple, Deception, Suspense, Family Se...</td>\n",
       "      <td>Kim Chul Gyu, Yoon Jong Ho</td>\n",
       "      <td>Yoo Jung Hee</td>\n",
       "      <td>Lee Joon Gi, Moon Chae Won, Jang Hee Jin, Seo ...</td>\n",
       "      <td>Monster Union</td>\n",
       "      <td>#2</td>\n",
       "    </tr>\n",
       "    <tr>\n",
       "      <th>2</th>\n",
       "      <td>Hospital Playlist</td>\n",
       "      <td>Mar 12, 2020 - May 28, 2020</td>\n",
       "      <td>2020</td>\n",
       "      <td>Netflix,  tvN</td>\n",
       "      <td>Thursday</td>\n",
       "      <td>12</td>\n",
       "      <td>1 hr. 30 min.</td>\n",
       "      <td>15+ - Teens 15 or older</td>\n",
       "      <td>9.1</td>\n",
       "      <td>The stories of people going through their days...</td>\n",
       "      <td>Friendship,  Romance,  Life,  Medical</td>\n",
       "      <td>Strong Friendship, Multiple Mains, Best Friend...</td>\n",
       "      <td>Shin Won Ho</td>\n",
       "      <td>Lee Woo Jung</td>\n",
       "      <td>Jo Jung Suk, Yoo Yeon Seok, Jung Kyung Ho, Kim...</td>\n",
       "      <td>Egg Is Coming, CJ ENM</td>\n",
       "      <td>#3</td>\n",
       "    </tr>\n",
       "  </tbody>\n",
       "</table>\n",
       "</div>"
      ],
      "text/plain": [
       "                Name                   Aired Date  Year of release  \\\n",
       "0     Move to Heaven                 May 14, 2021             2021   \n",
       "1     Flower of Evil  Jul 29, 2020 - Sep 23, 2020             2020   \n",
       "2  Hospital Playlist  Mar 12, 2020 - May 28, 2020             2020   \n",
       "\n",
       "  Original Network              Aired On  Number of Episodes       Duration  \\\n",
       "0          Netflix                Friday                  10        52 min.   \n",
       "1              tvN   Wednesday, Thursday                  16  1 hr. 10 min.   \n",
       "2   Netflix,  tvN               Thursday                  12  1 hr. 30 min.   \n",
       "\n",
       "                          Content Rating  Rating  \\\n",
       "0  18+ Restricted (violence & profanity)     9.2   \n",
       "1                15+ - Teens 15 or older     9.1   \n",
       "2                15+ - Teens 15 or older     9.1   \n",
       "\n",
       "                                            Synopsis  \\\n",
       "0  Geu Roo is a young autistic man. He works for ...   \n",
       "1  Although Baek Hee Sung is hiding a dark secret...   \n",
       "2  The stories of people going through their days...   \n",
       "\n",
       "                                     Genre  \\\n",
       "0                   Life,  Drama,  Family    \n",
       "1  Thriller,  Romance,  Crime,  Melodrama    \n",
       "2   Friendship,  Romance,  Life,  Medical    \n",
       "\n",
       "                                                Tags  \\\n",
       "0  Autism, Uncle-Nephew Relationship, Death, Sava...   \n",
       "1  Married Couple, Deception, Suspense, Family Se...   \n",
       "2  Strong Friendship, Multiple Mains, Best Friend...   \n",
       "\n",
       "                     Director  Screenwriter  \\\n",
       "0                 Kim Sung Ho  Yoon Ji Ryun   \n",
       "1  Kim Chul Gyu, Yoon Jong Ho  Yoo Jung Hee   \n",
       "2                 Shin Won Ho  Lee Woo Jung   \n",
       "\n",
       "                                                Cast  \\\n",
       "0  Lee Je Hoon, Tang Jun Sang, Hong Seung Hee, Ju...   \n",
       "1  Lee Joon Gi, Moon Chae Won, Jang Hee Jin, Seo ...   \n",
       "2  Jo Jung Suk, Yoo Yeon Seok, Jung Kyung Ho, Kim...   \n",
       "\n",
       "                   Production companies Rank  \n",
       "0  Page One Film, Number Three Pictures   #1  \n",
       "1                         Monster Union   #2  \n",
       "2                 Egg Is Coming, CJ ENM   #3  "
      ]
     },
     "execution_count": 281,
     "metadata": {},
     "output_type": "execute_result"
    }
   ],
   "source": [
    "df.head(3)"
   ]
  },
  {
   "cell_type": "code",
   "execution_count": 283,
   "id": "30c24f73",
   "metadata": {},
   "outputs": [
    {
     "data": {
      "text/plain": [
       "'Life,  Drama,  Family '"
      ]
     },
     "execution_count": 283,
     "metadata": {},
     "output_type": "execute_result"
    }
   ],
   "source": [
    "df.loc[0, 'Genre']"
   ]
  },
  {
   "cell_type": "code",
   "execution_count": 285,
   "id": "ee7dc58b",
   "metadata": {},
   "outputs": [
    {
     "data": {
      "text/plain": [
       "'Lee Je Hoon, Tang Jun Sang, Hong Seung Hee, Jung Suk Yong, Jung Young Joo, Lee Moon Shik'"
      ]
     },
     "execution_count": 285,
     "metadata": {},
     "output_type": "execute_result"
    }
   ],
   "source": [
    "df.loc[0, 'Cast']"
   ]
  },
  {
   "cell_type": "code",
   "execution_count": 287,
   "id": "f41e561f",
   "metadata": {},
   "outputs": [
    {
     "data": {
      "text/html": [
       "<div>\n",
       "<style scoped>\n",
       "    .dataframe tbody tr th:only-of-type {\n",
       "        vertical-align: middle;\n",
       "    }\n",
       "\n",
       "    .dataframe tbody tr th {\n",
       "        vertical-align: top;\n",
       "    }\n",
       "\n",
       "    .dataframe thead th {\n",
       "        text-align: right;\n",
       "    }\n",
       "</style>\n",
       "<table border=\"1\" class=\"dataframe\">\n",
       "  <thead>\n",
       "    <tr style=\"text-align: right;\">\n",
       "      <th></th>\n",
       "      <th>Name</th>\n",
       "      <th>Genre</th>\n",
       "      <th>Director</th>\n",
       "      <th>Cast</th>\n",
       "      <th>Screenwriter</th>\n",
       "    </tr>\n",
       "  </thead>\n",
       "  <tbody>\n",
       "    <tr>\n",
       "      <th>0</th>\n",
       "      <td>Move to Heaven</td>\n",
       "      <td>Life,  Drama,  Family</td>\n",
       "      <td>Kim Sung Ho</td>\n",
       "      <td>Lee Je Hoon, Tang Jun Sang, Hong Seung Hee, Ju...</td>\n",
       "      <td>Yoon Ji Ryun</td>\n",
       "    </tr>\n",
       "    <tr>\n",
       "      <th>1</th>\n",
       "      <td>Flower of Evil</td>\n",
       "      <td>Thriller,  Romance,  Crime,  Melodrama</td>\n",
       "      <td>Kim Chul Gyu, Yoon Jong Ho</td>\n",
       "      <td>Lee Joon Gi, Moon Chae Won, Jang Hee Jin, Seo ...</td>\n",
       "      <td>Yoo Jung Hee</td>\n",
       "    </tr>\n",
       "    <tr>\n",
       "      <th>2</th>\n",
       "      <td>Hospital Playlist</td>\n",
       "      <td>Friendship,  Romance,  Life,  Medical</td>\n",
       "      <td>Shin Won Ho</td>\n",
       "      <td>Jo Jung Suk, Yoo Yeon Seok, Jung Kyung Ho, Kim...</td>\n",
       "      <td>Lee Woo Jung</td>\n",
       "    </tr>\n",
       "  </tbody>\n",
       "</table>\n",
       "</div>"
      ],
      "text/plain": [
       "                Name                                    Genre  \\\n",
       "0     Move to Heaven                   Life,  Drama,  Family    \n",
       "1     Flower of Evil  Thriller,  Romance,  Crime,  Melodrama    \n",
       "2  Hospital Playlist   Friendship,  Romance,  Life,  Medical    \n",
       "\n",
       "                     Director  \\\n",
       "0                 Kim Sung Ho   \n",
       "1  Kim Chul Gyu, Yoon Jong Ho   \n",
       "2                 Shin Won Ho   \n",
       "\n",
       "                                                Cast  Screenwriter  \n",
       "0  Lee Je Hoon, Tang Jun Sang, Hong Seung Hee, Ju...  Yoon Ji Ryun  \n",
       "1  Lee Joon Gi, Moon Chae Won, Jang Hee Jin, Seo ...  Yoo Jung Hee  \n",
       "2  Jo Jung Suk, Yoo Yeon Seok, Jung Kyung Ho, Kim...  Lee Woo Jung  "
      ]
     },
     "execution_count": 287,
     "metadata": {},
     "output_type": "execute_result"
    }
   ],
   "source": [
    "df[['Name', 'Genre', 'Director', 'Cast', 'Screenwriter']].head(3)"
   ]
  },
  {
   "cell_type": "code",
   "execution_count": 54,
   "id": "fe47bac5-81dd-4750-a083-86a35701fb1c",
   "metadata": {},
   "outputs": [
    {
     "data": {
      "text/plain": [
       "pandas.core.series.Series"
      ]
     },
     "execution_count": 54,
     "metadata": {},
     "output_type": "execute_result"
    }
   ],
   "source": [
    "type(df['Genre'])"
   ]
  },
  {
   "cell_type": "code",
   "execution_count": 55,
   "id": "268fc9c0-14ef-4aef-86b7-b80ab5367a68",
   "metadata": {},
   "outputs": [],
   "source": [
    "df['Genre'] = list(df['Genre'])\n",
    "# df['Director'] = list(df['Director'])\n",
    "# df['Cast'] = list(df['Cast'])\n",
    "# df['Screenwriter'] = list(df['Screenwriter'])"
   ]
  },
  {
   "cell_type": "code",
   "execution_count": 56,
   "id": "6b488e51-4768-498e-af39-a353dca30afb",
   "metadata": {},
   "outputs": [
    {
     "data": {
      "text/html": [
       "<div>\n",
       "<style scoped>\n",
       "    .dataframe tbody tr th:only-of-type {\n",
       "        vertical-align: middle;\n",
       "    }\n",
       "\n",
       "    .dataframe tbody tr th {\n",
       "        vertical-align: top;\n",
       "    }\n",
       "\n",
       "    .dataframe thead th {\n",
       "        text-align: right;\n",
       "    }\n",
       "</style>\n",
       "<table border=\"1\" class=\"dataframe\">\n",
       "  <thead>\n",
       "    <tr style=\"text-align: right;\">\n",
       "      <th></th>\n",
       "      <th>Genre</th>\n",
       "    </tr>\n",
       "  </thead>\n",
       "  <tbody>\n",
       "    <tr>\n",
       "      <th>0</th>\n",
       "      <td>Life,  Drama,  Family</td>\n",
       "    </tr>\n",
       "    <tr>\n",
       "      <th>1</th>\n",
       "      <td>Thriller,  Romance,  Crime,  Melodrama</td>\n",
       "    </tr>\n",
       "    <tr>\n",
       "      <th>2</th>\n",
       "      <td>Friendship,  Romance,  Life,  Medical</td>\n",
       "    </tr>\n",
       "    <tr>\n",
       "      <th>3</th>\n",
       "      <td>Friendship,  Romance,  Life,  Medical</td>\n",
       "    </tr>\n",
       "    <tr>\n",
       "      <th>4</th>\n",
       "      <td>Psychological,  Life,  Drama,  Family</td>\n",
       "    </tr>\n",
       "    <tr>\n",
       "      <th>...</th>\n",
       "      <td>...</td>\n",
       "    </tr>\n",
       "    <tr>\n",
       "      <th>245</th>\n",
       "      <td>Historical, Romance, Medical, Fantasy</td>\n",
       "    </tr>\n",
       "    <tr>\n",
       "      <th>246</th>\n",
       "      <td>Historical, Romance, Melodrama, Political</td>\n",
       "    </tr>\n",
       "    <tr>\n",
       "      <th>247</th>\n",
       "      <td>Law, Romance, Life, Drama</td>\n",
       "    </tr>\n",
       "    <tr>\n",
       "      <th>248</th>\n",
       "      <td>Horror, Comedy, Romance, Fantasy</td>\n",
       "    </tr>\n",
       "    <tr>\n",
       "      <th>249</th>\n",
       "      <td>Action, Thriller, Mystery, Crime</td>\n",
       "    </tr>\n",
       "  </tbody>\n",
       "</table>\n",
       "<p>250 rows × 1 columns</p>\n",
       "</div>"
      ],
      "text/plain": [
       "                                         Genre\n",
       "0                       Life,  Drama,  Family \n",
       "1      Thriller,  Romance,  Crime,  Melodrama \n",
       "2       Friendship,  Romance,  Life,  Medical \n",
       "3       Friendship,  Romance,  Life,  Medical \n",
       "4       Psychological,  Life,  Drama,  Family \n",
       "..                                         ...\n",
       "245      Historical, Romance, Medical, Fantasy\n",
       "246  Historical, Romance, Melodrama, Political\n",
       "247                  Law, Romance, Life, Drama\n",
       "248           Horror, Comedy, Romance, Fantasy\n",
       "249           Action, Thriller, Mystery, Crime\n",
       "\n",
       "[250 rows x 1 columns]"
      ]
     },
     "execution_count": 56,
     "metadata": {},
     "output_type": "execute_result"
    }
   ],
   "source": [
    "df[['Genre']]"
   ]
  },
  {
   "cell_type": "code",
   "execution_count": null,
   "id": "fbfdf6f1-1802-4d93-aea7-aeca5c750451",
   "metadata": {},
   "outputs": [],
   "source": []
  },
  {
   "cell_type": "code",
   "execution_count": 289,
   "id": "459e4448",
   "metadata": {},
   "outputs": [],
   "source": [
    "def clean_data(x):\n",
    "    if isinstance(x, list):\n",
    "        return [str.lower(i.replace(', ', ' ')) for i in x]\n",
    "    else:\n",
    "        if isinstance(x, str):\n",
    "            return str.lower(x.replace(', ', ' '))\n",
    "        else:\n",
    "            return ''"
   ]
  },
  {
   "cell_type": "code",
   "execution_count": 291,
   "id": "ede9387d",
   "metadata": {},
   "outputs": [],
   "source": [
    "features = ['Genre']\n",
    "for feature in features:\n",
    "    df[feature] = df[feature].apply(clean_data)"
   ]
  },
  {
   "cell_type": "code",
   "execution_count": 293,
   "id": "0111499b",
   "metadata": {},
   "outputs": [
    {
     "data": {
      "text/html": [
       "<div>\n",
       "<style scoped>\n",
       "    .dataframe tbody tr th:only-of-type {\n",
       "        vertical-align: middle;\n",
       "    }\n",
       "\n",
       "    .dataframe tbody tr th {\n",
       "        vertical-align: top;\n",
       "    }\n",
       "\n",
       "    .dataframe thead th {\n",
       "        text-align: right;\n",
       "    }\n",
       "</style>\n",
       "<table border=\"1\" class=\"dataframe\">\n",
       "  <thead>\n",
       "    <tr style=\"text-align: right;\">\n",
       "      <th></th>\n",
       "      <th>Genre</th>\n",
       "    </tr>\n",
       "  </thead>\n",
       "  <tbody>\n",
       "    <tr>\n",
       "      <th>0</th>\n",
       "      <td>life  drama  family</td>\n",
       "    </tr>\n",
       "    <tr>\n",
       "      <th>1</th>\n",
       "      <td>thriller  romance  crime  melodrama</td>\n",
       "    </tr>\n",
       "    <tr>\n",
       "      <th>2</th>\n",
       "      <td>friendship  romance  life  medical</td>\n",
       "    </tr>\n",
       "  </tbody>\n",
       "</table>\n",
       "</div>"
      ],
      "text/plain": [
       "                                  Genre\n",
       "0                  life  drama  family \n",
       "1  thriller  romance  crime  melodrama \n",
       "2   friendship  romance  life  medical "
      ]
     },
     "execution_count": 293,
     "metadata": {},
     "output_type": "execute_result"
    }
   ],
   "source": [
    "df[['Genre']].head(3)"
   ]
  },
  {
   "cell_type": "code",
   "execution_count": 295,
   "id": "8cb97546-b48f-44ba-80cd-0cd152fbfa16",
   "metadata": {},
   "outputs": [],
   "source": [
    "df['Cast'] = list(df['Cast'])\n",
    "\n",
    "def clean_data(x):\n",
    "    if isinstance(x, list):\n",
    "        return [str.lower(i.replace(' ', '')) for i in x]\n",
    "    else:\n",
    "        if isinstance(x, str):\n",
    "            return str.lower(x.replace(' ', ' '))\n",
    "        else:\n",
    "            return ''\n",
    "\n",
    "features = ['Cast']\n",
    "for feature in features:\n",
    "    df[feature] = df[feature].apply(clean_data)"
   ]
  },
  {
   "cell_type": "code",
   "execution_count": 297,
   "id": "8b9d8afd-f40a-4b8c-b752-4303c8c94870",
   "metadata": {},
   "outputs": [
    {
     "data": {
      "text/html": [
       "<div>\n",
       "<style scoped>\n",
       "    .dataframe tbody tr th:only-of-type {\n",
       "        vertical-align: middle;\n",
       "    }\n",
       "\n",
       "    .dataframe tbody tr th {\n",
       "        vertical-align: top;\n",
       "    }\n",
       "\n",
       "    .dataframe thead th {\n",
       "        text-align: right;\n",
       "    }\n",
       "</style>\n",
       "<table border=\"1\" class=\"dataframe\">\n",
       "  <thead>\n",
       "    <tr style=\"text-align: right;\">\n",
       "      <th></th>\n",
       "      <th>Cast</th>\n",
       "    </tr>\n",
       "  </thead>\n",
       "  <tbody>\n",
       "    <tr>\n",
       "      <th>0</th>\n",
       "      <td>lee je hoon, tang jun sang, hong seung hee, ju...</td>\n",
       "    </tr>\n",
       "    <tr>\n",
       "      <th>1</th>\n",
       "      <td>lee joon gi, moon chae won, jang hee jin, seo ...</td>\n",
       "    </tr>\n",
       "    <tr>\n",
       "      <th>2</th>\n",
       "      <td>jo jung suk, yoo yeon seok, jung kyung ho, kim...</td>\n",
       "    </tr>\n",
       "  </tbody>\n",
       "</table>\n",
       "</div>"
      ],
      "text/plain": [
       "                                                Cast\n",
       "0  lee je hoon, tang jun sang, hong seung hee, ju...\n",
       "1  lee joon gi, moon chae won, jang hee jin, seo ...\n",
       "2  jo jung suk, yoo yeon seok, jung kyung ho, kim..."
      ]
     },
     "execution_count": 297,
     "metadata": {},
     "output_type": "execute_result"
    }
   ],
   "source": [
    "df[['Cast']].head(3)"
   ]
  },
  {
   "cell_type": "code",
   "execution_count": 299,
   "id": "7a7a47e0-99bd-41f9-b1fd-554509ed64d2",
   "metadata": {},
   "outputs": [],
   "source": [
    "df['Cast'] = df['Cast'].str.replace(' ', '')"
   ]
  },
  {
   "cell_type": "code",
   "execution_count": 301,
   "id": "d860d207-d1be-49c9-a873-4143e3f483ba",
   "metadata": {},
   "outputs": [],
   "source": [
    "df['Cast'] = df['Cast'].str.replace(',', ' ')"
   ]
  },
  {
   "cell_type": "code",
   "execution_count": 303,
   "id": "1c2c1057-6cdf-4681-bc4c-181808336af0",
   "metadata": {},
   "outputs": [
    {
     "data": {
      "text/plain": [
       "0      leejehoon tangjunsang hongseunghee jungsukyong...\n",
       "1      leejoongi moonchaewon jangheejin seohyunwoo na...\n",
       "2      jojungsuk yooyeonseok jungkyungho kimdaemyung ...\n",
       "3      jojungsuk yooyeonseok jungkyungho kimdaemyung ...\n",
       "4      leesunkyun iu parkhosan songsaebyuk leejiah ki...\n",
       "                             ...                        \n",
       "245    kimnamgil kimahjoong yoominkyu moongayoung yoo...\n",
       "246    parkminyoung yeonwoojin leedonggun janghyunsun...\n",
       "247    leesungmin kimjeesoo parkjinhee leejunho jeonn...\n",
       "248    leeseunggi chaseungwon ohyeonseo leehongki jan...\n",
       "249    leehana songseungheon soneunseo kangseungyoon ...\n",
       "Name: Cast, Length: 250, dtype: object"
      ]
     },
     "execution_count": 303,
     "metadata": {},
     "output_type": "execute_result"
    }
   ],
   "source": [
    "df['Cast']"
   ]
  },
  {
   "cell_type": "code",
   "execution_count": 305,
   "id": "25b0dd36-0482-49a7-aad0-bc8ec78f6b87",
   "metadata": {},
   "outputs": [
    {
     "data": {
      "text/plain": [
       "0                                 KimSungHo\n",
       "1                     KimChulGyu YoonJongHo\n",
       "2                                 ShinWonHo\n",
       "3                                 ShinWonHo\n",
       "4                      KimWonSuk KimSangWoo\n",
       "                       ...                 \n",
       "245                            HongJongChan\n",
       "246                              LeeJungSub\n",
       "247                            ParkChanHong\n",
       "248    ParkHongKyun KimJungHyun KimByungSoo\n",
       "249                 ShinYongHwi YoonRaYoung\n",
       "Name: Director, Length: 250, dtype: object"
      ]
     },
     "execution_count": 305,
     "metadata": {},
     "output_type": "execute_result"
    }
   ],
   "source": [
    "df['Director'] = df['Director'].str.replace(' ', '')\n",
    "df['Director'] = df['Director'].str.replace(',', ' ')\n",
    "df['Director']"
   ]
  },
  {
   "cell_type": "code",
   "execution_count": 307,
   "id": "c4922129-447a-4bf6-aeef-3706e164d08a",
   "metadata": {},
   "outputs": [
    {
     "data": {
      "text/plain": [
       "0                 YoonJiRyun\n",
       "1                 YooJungHee\n",
       "2                 LeeWooJung\n",
       "3                 LeeWooJung\n",
       "4               ParkHaeYoung\n",
       "               ...          \n",
       "245                KimEunHee\n",
       "246             ChoiJinYoung\n",
       "247                 KimJiWoo\n",
       "248    HongJungEun HongMiRan\n",
       "249                 MaJinWon\n",
       "Name: Screenwriter, Length: 250, dtype: object"
      ]
     },
     "execution_count": 307,
     "metadata": {},
     "output_type": "execute_result"
    }
   ],
   "source": [
    "df['Screenwriter'] = df['Screenwriter'].str.replace(' ', '')\n",
    "df['Screenwriter'] = df['Screenwriter'].str.replace(',', ' ')\n",
    "df['Screenwriter']"
   ]
  },
  {
   "cell_type": "code",
   "execution_count": 309,
   "id": "4d5b1890-2827-4812-97ad-59a1f5e98c14",
   "metadata": {},
   "outputs": [
    {
     "data": {
      "text/plain": [
       "Name                    0\n",
       "Aired Date              0\n",
       "Year of release         0\n",
       "Original Network        0\n",
       "Aired On                0\n",
       "Number of Episodes      0\n",
       "Duration                0\n",
       "Content Rating          0\n",
       "Rating                  0\n",
       "Synopsis                0\n",
       "Genre                   0\n",
       "Tags                    0\n",
       "Director                0\n",
       "Screenwriter            0\n",
       "Cast                    0\n",
       "Production companies    0\n",
       "Rank                    0\n",
       "dtype: int64"
      ]
     },
     "execution_count": 309,
     "metadata": {},
     "output_type": "execute_result"
    }
   ],
   "source": [
    "df.isna().sum()"
   ]
  },
  {
   "cell_type": "code",
   "execution_count": 311,
   "id": "1473becc",
   "metadata": {},
   "outputs": [],
   "source": [
    "def create_keyword(x):\n",
    "    if pd.notna(x['Genre']) and pd.notna(x['Director']) and pd.notna(x['Cast']) and pd.notna(x['Screenwriter']):\n",
    "        return x['Genre'] + ' ' + x['Director'] + ' ' + x['Cast'] + ' ' + x['Screenwriter']\n",
    "    else:\n",
    "        return ''"
   ]
  },
  {
   "cell_type": "code",
   "execution_count": 315,
   "id": "d33c6fa5-5d69-4f20-ab83-f2ab9734fe64",
   "metadata": {},
   "outputs": [
    {
     "data": {
      "text/plain": [
       "0      life  drama  family  KimSungHo leejehoon tangj...\n",
       "1      thriller  romance  crime  melodrama  KimChulGy...\n",
       "2      friendship  romance  life  medical  ShinWonHo ...\n",
       "3      friendship  romance  life  medical  ShinWonHo ...\n",
       "4      psychological  life  drama  family  KimWonSuk ...\n",
       "                             ...                        \n",
       "245    historical romance medical fantasy HongJongCha...\n",
       "246    historical romance melodrama political LeeJung...\n",
       "247    law romance life drama ParkChanHong leesungmin...\n",
       "248    horror comedy romance fantasy ParkHongKyun Kim...\n",
       "249    action thriller mystery crime ShinYongHwi Yoon...\n",
       "Name: keyword, Length: 250, dtype: object"
      ]
     },
     "execution_count": 315,
     "metadata": {},
     "output_type": "execute_result"
    }
   ],
   "source": [
    "df['keyword'] = df.apply(create_keyword, axis=1)\n",
    "df['keyword']"
   ]
  },
  {
   "cell_type": "code",
   "execution_count": 317,
   "id": "f0fc8da1",
   "metadata": {},
   "outputs": [
    {
     "data": {
      "text/plain": [
       "<250x1250 sparse matrix of type '<class 'numpy.int64'>'\n",
       "\twith 3130 stored elements in Compressed Sparse Row format>"
      ]
     },
     "execution_count": 317,
     "metadata": {},
     "output_type": "execute_result"
    }
   ],
   "source": [
    "from sklearn.feature_extraction.text import CountVectorizer\n",
    "\n",
    "count = CountVectorizer(stop_words='english')\n",
    "count_matrix = count.fit_transform(df['keyword'])\n",
    "count_matrix"
   ]
  },
  {
   "cell_type": "code",
   "execution_count": 319,
   "id": "03f5bd66",
   "metadata": {},
   "outputs": [
    {
     "data": {
      "text/plain": [
       "array([[1.        , 0.        , 0.08703883, ..., 0.17407766, 0.        ,\n",
       "        0.        ],\n",
       "       [0.        , 1.        , 0.08006408, ..., 0.08006408, 0.07161149,\n",
       "        0.15384615],\n",
       "       [0.08703883, 0.08006408, 1.        , ..., 0.16666667, 0.0745356 ,\n",
       "        0.        ],\n",
       "       ...,\n",
       "       [0.17407766, 0.08006408, 0.16666667, ..., 1.        , 0.0745356 ,\n",
       "        0.        ],\n",
       "       [0.        , 0.07161149, 0.0745356 , ..., 0.0745356 , 1.        ,\n",
       "        0.        ],\n",
       "       [0.        , 0.15384615, 0.        , ..., 0.        , 0.        ,\n",
       "        1.        ]])"
      ]
     },
     "execution_count": 319,
     "metadata": {},
     "output_type": "execute_result"
    }
   ],
   "source": [
    "from sklearn.metrics.pairwise import cosine_similarity\n",
    "cosine_sim2 = cosine_similarity(count_matrix, count_matrix)\n",
    "cosine_sim2"
   ]
  },
  {
   "cell_type": "code",
   "execution_count": 321,
   "id": "fd38b8e4",
   "metadata": {},
   "outputs": [
    {
     "data": {
      "text/plain": [
       "2"
      ]
     },
     "execution_count": 321,
     "metadata": {},
     "output_type": "execute_result"
    }
   ],
   "source": [
    "indices['Hospital Playlist']"
   ]
  },
  {
   "cell_type": "code",
   "execution_count": 323,
   "id": "6f305eae",
   "metadata": {},
   "outputs": [
    {
     "data": {
      "text/plain": [
       "Name\n",
       "Move to Heaven              0\n",
       "Flower of Evil              1\n",
       "Hospital Playlist           2\n",
       "Hospital Playlist 2         3\n",
       "My Mister                   4\n",
       "                         ... \n",
       "Live Up to Your Name      245\n",
       "Queen for Seven Days      246\n",
       "Memory                    247\n",
       "A Korean Odyssey          248\n",
       "Voice 4: Judgment Hour    249\n",
       "Length: 250, dtype: int64"
      ]
     },
     "execution_count": 323,
     "metadata": {},
     "output_type": "execute_result"
    }
   ],
   "source": [
    "df = df.reset_index()\n",
    "indices = pd.Series(df.index, index=df['Name'])\n",
    "indices"
   ]
  },
  {
   "cell_type": "code",
   "execution_count": 325,
   "id": "c5fef1d6",
   "metadata": {},
   "outputs": [
    {
     "data": {
      "text/plain": [
       "0            Move to Heaven\n",
       "15                Navillera\n",
       "20               SKY Castle\n",
       "33            The Penthouse\n",
       "43          Dear My Friends\n",
       "45          The Penthouse 2\n",
       "58                  Misaeng\n",
       "70      My Liberation Notes\n",
       "82           Go Back Couple\n",
       "161    My Unfamiliar Family\n",
       "Name: Name, dtype: object"
      ]
     },
     "execution_count": 325,
     "metadata": {},
     "output_type": "execute_result"
    }
   ],
   "source": [
    "get_recommendations('My Mister', cosine_sim2)"
   ]
  },
  {
   "cell_type": "code",
   "execution_count": 327,
   "id": "52c20bf5",
   "metadata": {},
   "outputs": [
    {
     "data": {
      "text/plain": [
       "124              Snowdrop\n",
       "221                  Mine\n",
       "33          The Penthouse\n",
       "37            Beyond Evil\n",
       "45        The Penthouse 2\n",
       "78     Children of Nobody\n",
       "87             Stranger 2\n",
       "101          Nobody Knows\n",
       "230             Liar Game\n",
       "4               My Mister\n",
       "Name: Name, dtype: object"
      ]
     },
     "execution_count": 327,
     "metadata": {},
     "output_type": "execute_result"
    }
   ],
   "source": [
    "get_recommendations('SKY Castle', cosine_sim2)"
   ]
  },
  {
   "cell_type": "code",
   "execution_count": 329,
   "id": "9095855e",
   "metadata": {},
   "outputs": [
    {
     "data": {
      "text/plain": [
       "101"
      ]
     },
     "execution_count": 329,
     "metadata": {},
     "output_type": "execute_result"
    }
   ],
   "source": [
    "indices['Nobody Knows']"
   ]
  },
  {
   "cell_type": "code",
   "execution_count": 331,
   "id": "f4f6fb36",
   "metadata": {},
   "outputs": [],
   "source": [
    "import pickle"
   ]
  },
  {
   "cell_type": "code",
   "execution_count": 333,
   "id": "762985f0",
   "metadata": {},
   "outputs": [
    {
     "data": {
      "text/html": [
       "<div>\n",
       "<style scoped>\n",
       "    .dataframe tbody tr th:only-of-type {\n",
       "        vertical-align: middle;\n",
       "    }\n",
       "\n",
       "    .dataframe tbody tr th {\n",
       "        vertical-align: top;\n",
       "    }\n",
       "\n",
       "    .dataframe thead th {\n",
       "        text-align: right;\n",
       "    }\n",
       "</style>\n",
       "<table border=\"1\" class=\"dataframe\">\n",
       "  <thead>\n",
       "    <tr style=\"text-align: right;\">\n",
       "      <th></th>\n",
       "      <th>index</th>\n",
       "      <th>Name</th>\n",
       "      <th>Aired Date</th>\n",
       "      <th>Year of release</th>\n",
       "      <th>Original Network</th>\n",
       "      <th>Aired On</th>\n",
       "      <th>Number of Episodes</th>\n",
       "      <th>Duration</th>\n",
       "      <th>Content Rating</th>\n",
       "      <th>Rating</th>\n",
       "      <th>Synopsis</th>\n",
       "      <th>Genre</th>\n",
       "      <th>Tags</th>\n",
       "      <th>Director</th>\n",
       "      <th>Screenwriter</th>\n",
       "      <th>Cast</th>\n",
       "      <th>Production companies</th>\n",
       "      <th>Rank</th>\n",
       "      <th>keyword</th>\n",
       "    </tr>\n",
       "  </thead>\n",
       "  <tbody>\n",
       "    <tr>\n",
       "      <th>0</th>\n",
       "      <td>0</td>\n",
       "      <td>Move to Heaven</td>\n",
       "      <td>May 14, 2021</td>\n",
       "      <td>2021</td>\n",
       "      <td>Netflix</td>\n",
       "      <td>Friday</td>\n",
       "      <td>10</td>\n",
       "      <td>52 min.</td>\n",
       "      <td>18+ Restricted (violence &amp; profanity)</td>\n",
       "      <td>9.2</td>\n",
       "      <td>Geu Roo is a young autistic man. He works for ...</td>\n",
       "      <td>life  drama  family</td>\n",
       "      <td>Autism, Uncle-Nephew Relationship, Death, Sava...</td>\n",
       "      <td>KimSungHo</td>\n",
       "      <td>YoonJiRyun</td>\n",
       "      <td>leejehoon tangjunsang hongseunghee jungsukyong...</td>\n",
       "      <td>Page One Film, Number Three Pictures</td>\n",
       "      <td>#1</td>\n",
       "      <td>life  drama  family  KimSungHo leejehoon tangj...</td>\n",
       "    </tr>\n",
       "    <tr>\n",
       "      <th>1</th>\n",
       "      <td>1</td>\n",
       "      <td>Flower of Evil</td>\n",
       "      <td>Jul 29, 2020 - Sep 23, 2020</td>\n",
       "      <td>2020</td>\n",
       "      <td>tvN</td>\n",
       "      <td>Wednesday, Thursday</td>\n",
       "      <td>16</td>\n",
       "      <td>1 hr. 10 min.</td>\n",
       "      <td>15+ - Teens 15 or older</td>\n",
       "      <td>9.1</td>\n",
       "      <td>Although Baek Hee Sung is hiding a dark secret...</td>\n",
       "      <td>thriller  romance  crime  melodrama</td>\n",
       "      <td>Married Couple, Deception, Suspense, Family Se...</td>\n",
       "      <td>KimChulGyu YoonJongHo</td>\n",
       "      <td>YooJungHee</td>\n",
       "      <td>leejoongi moonchaewon jangheejin seohyunwoo na...</td>\n",
       "      <td>Monster Union</td>\n",
       "      <td>#2</td>\n",
       "      <td>thriller  romance  crime  melodrama  KimChulGy...</td>\n",
       "    </tr>\n",
       "    <tr>\n",
       "      <th>2</th>\n",
       "      <td>2</td>\n",
       "      <td>Hospital Playlist</td>\n",
       "      <td>Mar 12, 2020 - May 28, 2020</td>\n",
       "      <td>2020</td>\n",
       "      <td>Netflix,  tvN</td>\n",
       "      <td>Thursday</td>\n",
       "      <td>12</td>\n",
       "      <td>1 hr. 30 min.</td>\n",
       "      <td>15+ - Teens 15 or older</td>\n",
       "      <td>9.1</td>\n",
       "      <td>The stories of people going through their days...</td>\n",
       "      <td>friendship  romance  life  medical</td>\n",
       "      <td>Strong Friendship, Multiple Mains, Best Friend...</td>\n",
       "      <td>ShinWonHo</td>\n",
       "      <td>LeeWooJung</td>\n",
       "      <td>jojungsuk yooyeonseok jungkyungho kimdaemyung ...</td>\n",
       "      <td>Egg Is Coming, CJ ENM</td>\n",
       "      <td>#3</td>\n",
       "      <td>friendship  romance  life  medical  ShinWonHo ...</td>\n",
       "    </tr>\n",
       "  </tbody>\n",
       "</table>\n",
       "</div>"
      ],
      "text/plain": [
       "   index               Name                   Aired Date  Year of release  \\\n",
       "0      0     Move to Heaven                 May 14, 2021             2021   \n",
       "1      1     Flower of Evil  Jul 29, 2020 - Sep 23, 2020             2020   \n",
       "2      2  Hospital Playlist  Mar 12, 2020 - May 28, 2020             2020   \n",
       "\n",
       "  Original Network              Aired On  Number of Episodes       Duration  \\\n",
       "0          Netflix                Friday                  10        52 min.   \n",
       "1              tvN   Wednesday, Thursday                  16  1 hr. 10 min.   \n",
       "2   Netflix,  tvN               Thursday                  12  1 hr. 30 min.   \n",
       "\n",
       "                          Content Rating  Rating  \\\n",
       "0  18+ Restricted (violence & profanity)     9.2   \n",
       "1                15+ - Teens 15 or older     9.1   \n",
       "2                15+ - Teens 15 or older     9.1   \n",
       "\n",
       "                                            Synopsis  \\\n",
       "0  Geu Roo is a young autistic man. He works for ...   \n",
       "1  Although Baek Hee Sung is hiding a dark secret...   \n",
       "2  The stories of people going through their days...   \n",
       "\n",
       "                                  Genre  \\\n",
       "0                  life  drama  family    \n",
       "1  thriller  romance  crime  melodrama    \n",
       "2   friendship  romance  life  medical    \n",
       "\n",
       "                                                Tags               Director  \\\n",
       "0  Autism, Uncle-Nephew Relationship, Death, Sava...              KimSungHo   \n",
       "1  Married Couple, Deception, Suspense, Family Se...  KimChulGyu YoonJongHo   \n",
       "2  Strong Friendship, Multiple Mains, Best Friend...              ShinWonHo   \n",
       "\n",
       "  Screenwriter                                               Cast  \\\n",
       "0   YoonJiRyun  leejehoon tangjunsang hongseunghee jungsukyong...   \n",
       "1   YooJungHee  leejoongi moonchaewon jangheejin seohyunwoo na...   \n",
       "2   LeeWooJung  jojungsuk yooyeonseok jungkyungho kimdaemyung ...   \n",
       "\n",
       "                   Production companies Rank  \\\n",
       "0  Page One Film, Number Three Pictures   #1   \n",
       "1                         Monster Union   #2   \n",
       "2                 Egg Is Coming, CJ ENM   #3   \n",
       "\n",
       "                                             keyword  \n",
       "0  life  drama  family  KimSungHo leejehoon tangj...  \n",
       "1  thriller  romance  crime  melodrama  KimChulGy...  \n",
       "2  friendship  romance  life  medical  ShinWonHo ...  "
      ]
     },
     "execution_count": 333,
     "metadata": {},
     "output_type": "execute_result"
    }
   ],
   "source": [
    "df.head(3)"
   ]
  },
  {
   "cell_type": "code",
   "execution_count": 335,
   "id": "1854e686",
   "metadata": {},
   "outputs": [
    {
     "data": {
      "text/html": [
       "<div>\n",
       "<style scoped>\n",
       "    .dataframe tbody tr th:only-of-type {\n",
       "        vertical-align: middle;\n",
       "    }\n",
       "\n",
       "    .dataframe tbody tr th {\n",
       "        vertical-align: top;\n",
       "    }\n",
       "\n",
       "    .dataframe thead th {\n",
       "        text-align: right;\n",
       "    }\n",
       "</style>\n",
       "<table border=\"1\" class=\"dataframe\">\n",
       "  <thead>\n",
       "    <tr style=\"text-align: right;\">\n",
       "      <th></th>\n",
       "      <th>Name</th>\n",
       "      <th>Tags</th>\n",
       "    </tr>\n",
       "  </thead>\n",
       "  <tbody>\n",
       "    <tr>\n",
       "      <th>0</th>\n",
       "      <td>Move to Heaven</td>\n",
       "      <td>Autism, Uncle-Nephew Relationship, Death, Sava...</td>\n",
       "    </tr>\n",
       "    <tr>\n",
       "      <th>1</th>\n",
       "      <td>Flower of Evil</td>\n",
       "      <td>Married Couple, Deception, Suspense, Family Se...</td>\n",
       "    </tr>\n",
       "    <tr>\n",
       "      <th>2</th>\n",
       "      <td>Hospital Playlist</td>\n",
       "      <td>Strong Friendship, Multiple Mains, Best Friend...</td>\n",
       "    </tr>\n",
       "    <tr>\n",
       "      <th>3</th>\n",
       "      <td>Hospital Playlist 2</td>\n",
       "      <td>Workplace, Strong Friendship, Best Friends, Mu...</td>\n",
       "    </tr>\n",
       "    <tr>\n",
       "      <th>4</th>\n",
       "      <td>My Mister</td>\n",
       "      <td>Age Gap, Nice Male Lead, Strong Female Lead, H...</td>\n",
       "    </tr>\n",
       "  </tbody>\n",
       "</table>\n",
       "</div>"
      ],
      "text/plain": [
       "                  Name                                               Tags\n",
       "0       Move to Heaven  Autism, Uncle-Nephew Relationship, Death, Sava...\n",
       "1       Flower of Evil  Married Couple, Deception, Suspense, Family Se...\n",
       "2    Hospital Playlist  Strong Friendship, Multiple Mains, Best Friend...\n",
       "3  Hospital Playlist 2  Workplace, Strong Friendship, Best Friends, Mu...\n",
       "4            My Mister  Age Gap, Nice Male Lead, Strong Female Lead, H..."
      ]
     },
     "execution_count": 335,
     "metadata": {},
     "output_type": "execute_result"
    }
   ],
   "source": [
    "drama = df[['Name', 'Tags']].copy()\n",
    "drama.head(5)"
   ]
  },
  {
   "cell_type": "code",
   "execution_count": 337,
   "id": "aec3b130",
   "metadata": {},
   "outputs": [],
   "source": [
    "pickle.dump(drama, open('drama.pickle', 'wb'))"
   ]
  },
  {
   "cell_type": "code",
   "execution_count": 343,
   "id": "b246d947",
   "metadata": {},
   "outputs": [],
   "source": [
    "pickle.dump(cosine_sim2, open('cosine_sim.pickle', 'wb'))"
   ]
  },
  {
   "cell_type": "code",
   "execution_count": null,
   "id": "5d126a6c-c687-4716-ac78-16e312cf77f4",
   "metadata": {},
   "outputs": [],
   "source": []
  }
 ],
 "metadata": {
  "kernelspec": {
   "display_name": "Python 3 (ipykernel)",
   "language": "python",
   "name": "python3"
  },
  "language_info": {
   "codemirror_mode": {
    "name": "ipython",
    "version": 3
   },
   "file_extension": ".py",
   "mimetype": "text/x-python",
   "name": "python",
   "nbconvert_exporter": "python",
   "pygments_lexer": "ipython3",
   "version": "3.12.4"
  }
 },
 "nbformat": 4,
 "nbformat_minor": 5
}
